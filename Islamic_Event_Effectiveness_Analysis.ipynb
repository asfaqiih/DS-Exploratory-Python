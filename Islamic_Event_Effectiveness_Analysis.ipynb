{
  "nbformat": 4,
  "nbformat_minor": 0,
  "metadata": {
    "colab": {
      "name": "Islamic Event Effectiveness Analysis",
      "provenance": []
    },
    "kernelspec": {
      "name": "python3",
      "display_name": "Python 3"
    },
    "language_info": {
      "name": "python"
    }
  },
  "cells": [
    {
      "cell_type": "markdown",
      "source": [
        "**ISLAMIC EVENT : IS IT EFFECTIVE OR NOT?**\n",
        "\n",
        "This is a statistical analysis project about the effectiveness of Islamic event held in Diponegoro University on 2020-2021 by more than one different organization. This project aims to find the most important features or variables that must be considered by those organizations that want to hold the Islamic event.\n",
        "\n",
        "The dataset used in this analysis is an original dataset that was derived from the result of the interview and the Google Form survey held by myself and my team with some of the Moslem students in those organizations that used to hold the Islamic event in Diponegoro University.\n",
        "\n",
        "The dataset consists of 14 different organizations and 11 different variables, there are:\n",
        "\n",
        "- **Perbandingan** (the comparison value between the number of Islamic event's particapants and the total number of the Moslem students of each faculty or department)\n",
        "- **Total_Hari** (the number of days during the event)\n",
        "- **Total_Materi** (the number of subject materials during the event)\n",
        "- **Total_Durasi** (the number of hours during the event)\n",
        "- **Jumlah_Media_Branding** (the number of branding media used to promote the event)\n",
        "- **Jumlah_Bentuk_Branding** (the number of branding type used to promote the event)\n",
        "- **Tempat** (the place that used to held the event)\n",
        "- **Branding_Jam_Posting** (the aspect of time to used for the promotion)\n",
        "- **Branding_Tujuan_Manfaat** (the aspect of event's objectives and benefits during the promotion)\n",
        "- **Branding_Manfaat_Materi** (the aspect of event's subject materials benefits during the promotion)\n",
        "- **Branding_Sebar_Konten** (the aspect of anyone from the committee who participated during the promotion)\n",
        "- **Branding_Alasan_Penting** (the aspect of the important reason why should student join the event during the promotion)\n"
      ],
      "metadata": {
        "id": "M7uW4nEeHMq5"
      }
    },
    {
      "cell_type": "code",
      "execution_count": 26,
      "metadata": {
        "id": "dJ_J0hhblQu9"
      },
      "outputs": [],
      "source": [
        "from sklearn.preprocessing import StandardScaler\n",
        "from sklearn.model_selection import train_test_split\n",
        "from sklearn.linear_model import LinearRegression\n",
        "from sklearn.metrics import r2_score\n",
        "from kmodes.kprototypes import KPrototypes\n",
        "import plotly.express as px\n",
        "import plotly.graph_objects as go\n",
        "from plotly.subplots import make_subplots\n",
        "import pandas as pd\n",
        "import numpy as np\n",
        "import seaborn as sns\n",
        "import matplotlib.pyplot as plt\n",
        "import warnings\n",
        "warnings.filterwarnings('ignore')"
      ]
    },
    {
      "cell_type": "markdown",
      "source": [
        "### **Data Understanding**"
      ],
      "metadata": {
        "id": "OpyAyctGiLTj"
      }
    },
    {
      "cell_type": "code",
      "source": [
        "df = pd.read_csv('/content/Survei TR1 (Jawaban) - Sheet12.csv')\n",
        "df.info()"
      ],
      "metadata": {
        "colab": {
          "base_uri": "https://localhost:8080/"
        },
        "id": "_-JEh6womLDn",
        "outputId": "901e7a41-7344-4cd1-8f48-a289a6358255"
      },
      "execution_count": 3,
      "outputs": [
        {
          "output_type": "stream",
          "name": "stdout",
          "text": [
            "<class 'pandas.core.frame.DataFrame'>\n",
            "RangeIndex: 14 entries, 0 to 13\n",
            "Data columns (total 23 columns):\n",
            " #   Column                   Non-Null Count  Dtype  \n",
            "---  ------                   --------------  -----  \n",
            " 0   Nama                     14 non-null     object \n",
            " 1   Ket                      14 non-null     object \n",
            " 2   Jml_Muslim_21            14 non-null     int64  \n",
            " 3   Jml_Peserta_21           14 non-null     int64  \n",
            " 4   Branding_Alasan_Penting  14 non-null     int64  \n",
            " 5   Branding_Manfaat_materi  14 non-null     int64  \n",
            " 6   Jml_Media_Branding       14 non-null     int64  \n",
            " 7   Branding_Instagram       14 non-null     int64  \n",
            " 8   Branding_WA              14 non-null     int64  \n",
            " 9   Branding_Line            14 non-null     int64  \n",
            " 10  Branding_Tiktok          14 non-null     int64  \n",
            " 11  Branding_Sebar_Konten    14 non-null     int64  \n",
            " 12  Branding_Jam_Posting     14 non-null     int64  \n",
            " 13  Jml_Bentuk_Branding      14 non-null     int64  \n",
            " 14  Branding-Pamflet         14 non-null     int64  \n",
            " 15  Branding_Video           14 non-null     int64  \n",
            " 16  Branding_Sosialisasi     14 non-null     int64  \n",
            " 17  Branding_Desain          14 non-null     int64  \n",
            " 18  Branding_Tujuan_Manfaat  14 non-null     int64  \n",
            " 19  Total_Hari_21            14 non-null     int64  \n",
            " 20  Total_Durasi_21          14 non-null     float64\n",
            " 21  Tempat_21                14 non-null     object \n",
            " 22  Total_Materi_21          14 non-null     int64  \n",
            "dtypes: float64(1), int64(19), object(3)\n",
            "memory usage: 2.6+ KB\n"
          ]
        }
      ]
    },
    {
      "cell_type": "code",
      "source": [
        "df.head()"
      ],
      "metadata": {
        "colab": {
          "base_uri": "https://localhost:8080/",
          "height": 351
        },
        "id": "W0ZP6zlIHZkG",
        "outputId": "35624c84-b170-4834-a9cb-31ce35c3b7cc"
      },
      "execution_count": 4,
      "outputs": [
        {
          "output_type": "execute_result",
          "data": {
            "text/plain": [
              "          Nama  Ket  Jml_Muslim_21  Jml_Peserta_21  Branding_Alasan_Penting  \\\n",
              "0   KM An Nahl  LDF            494              35                        1   \n",
              "1       Gamais  LDF            299              81                        1   \n",
              "2     Kharisma  LDF            590              20                        1   \n",
              "3        Mizan  LDF            675              61                        1   \n",
              "4  Al Muhandis  LDJ            164             135                        1   \n",
              "\n",
              "   Branding_Manfaat_materi  Jml_Media_Branding  Branding_Instagram  \\\n",
              "0                        1                   3                   1   \n",
              "1                        1                   3                   1   \n",
              "2                        1                   2                   1   \n",
              "3                        1                   1                   1   \n",
              "4                        1                   2                   1   \n",
              "\n",
              "   Branding_WA  Branding_Line  ...  Jml_Bentuk_Branding  Branding-Pamflet  \\\n",
              "0            1              0  ...                    3                 1   \n",
              "1            1              1  ...                    1                 1   \n",
              "2            1              0  ...                    3                 1   \n",
              "3            0              0  ...                    2                 1   \n",
              "4            0              1  ...                    2                 1   \n",
              "\n",
              "   Branding_Video  Branding_Sosialisasi  Branding_Desain  \\\n",
              "0               1                     1                4   \n",
              "1               0                     0                4   \n",
              "2               1                     1                5   \n",
              "3               1                     0                3   \n",
              "4               0                     1                2   \n",
              "\n",
              "   Branding_Tujuan_Manfaat  Total_Hari_21  Total_Durasi_21  Tempat_21  \\\n",
              "0                        1              1              4.0      Teams   \n",
              "1                        1              1              4.3       Zoom   \n",
              "2                        1              2              7.9      Teams   \n",
              "3                        1              2              8.3      Teams   \n",
              "4                        1              1              3.3      Teams   \n",
              "\n",
              "   Total_Materi_21  \n",
              "0                2  \n",
              "1                2  \n",
              "2                3  \n",
              "3                4  \n",
              "4                4  \n",
              "\n",
              "[5 rows x 23 columns]"
            ],
            "text/html": [
              "\n",
              "  <div id=\"df-a364cbd6-0071-43ce-8640-cf558bd38b56\">\n",
              "    <div class=\"colab-df-container\">\n",
              "      <div>\n",
              "<style scoped>\n",
              "    .dataframe tbody tr th:only-of-type {\n",
              "        vertical-align: middle;\n",
              "    }\n",
              "\n",
              "    .dataframe tbody tr th {\n",
              "        vertical-align: top;\n",
              "    }\n",
              "\n",
              "    .dataframe thead th {\n",
              "        text-align: right;\n",
              "    }\n",
              "</style>\n",
              "<table border=\"1\" class=\"dataframe\">\n",
              "  <thead>\n",
              "    <tr style=\"text-align: right;\">\n",
              "      <th></th>\n",
              "      <th>Nama</th>\n",
              "      <th>Ket</th>\n",
              "      <th>Jml_Muslim_21</th>\n",
              "      <th>Jml_Peserta_21</th>\n",
              "      <th>Branding_Alasan_Penting</th>\n",
              "      <th>Branding_Manfaat_materi</th>\n",
              "      <th>Jml_Media_Branding</th>\n",
              "      <th>Branding_Instagram</th>\n",
              "      <th>Branding_WA</th>\n",
              "      <th>Branding_Line</th>\n",
              "      <th>...</th>\n",
              "      <th>Jml_Bentuk_Branding</th>\n",
              "      <th>Branding-Pamflet</th>\n",
              "      <th>Branding_Video</th>\n",
              "      <th>Branding_Sosialisasi</th>\n",
              "      <th>Branding_Desain</th>\n",
              "      <th>Branding_Tujuan_Manfaat</th>\n",
              "      <th>Total_Hari_21</th>\n",
              "      <th>Total_Durasi_21</th>\n",
              "      <th>Tempat_21</th>\n",
              "      <th>Total_Materi_21</th>\n",
              "    </tr>\n",
              "  </thead>\n",
              "  <tbody>\n",
              "    <tr>\n",
              "      <th>0</th>\n",
              "      <td>KM An Nahl</td>\n",
              "      <td>LDF</td>\n",
              "      <td>494</td>\n",
              "      <td>35</td>\n",
              "      <td>1</td>\n",
              "      <td>1</td>\n",
              "      <td>3</td>\n",
              "      <td>1</td>\n",
              "      <td>1</td>\n",
              "      <td>0</td>\n",
              "      <td>...</td>\n",
              "      <td>3</td>\n",
              "      <td>1</td>\n",
              "      <td>1</td>\n",
              "      <td>1</td>\n",
              "      <td>4</td>\n",
              "      <td>1</td>\n",
              "      <td>1</td>\n",
              "      <td>4.0</td>\n",
              "      <td>Teams</td>\n",
              "      <td>2</td>\n",
              "    </tr>\n",
              "    <tr>\n",
              "      <th>1</th>\n",
              "      <td>Gamais</td>\n",
              "      <td>LDF</td>\n",
              "      <td>299</td>\n",
              "      <td>81</td>\n",
              "      <td>1</td>\n",
              "      <td>1</td>\n",
              "      <td>3</td>\n",
              "      <td>1</td>\n",
              "      <td>1</td>\n",
              "      <td>1</td>\n",
              "      <td>...</td>\n",
              "      <td>1</td>\n",
              "      <td>1</td>\n",
              "      <td>0</td>\n",
              "      <td>0</td>\n",
              "      <td>4</td>\n",
              "      <td>1</td>\n",
              "      <td>1</td>\n",
              "      <td>4.3</td>\n",
              "      <td>Zoom</td>\n",
              "      <td>2</td>\n",
              "    </tr>\n",
              "    <tr>\n",
              "      <th>2</th>\n",
              "      <td>Kharisma</td>\n",
              "      <td>LDF</td>\n",
              "      <td>590</td>\n",
              "      <td>20</td>\n",
              "      <td>1</td>\n",
              "      <td>1</td>\n",
              "      <td>2</td>\n",
              "      <td>1</td>\n",
              "      <td>1</td>\n",
              "      <td>0</td>\n",
              "      <td>...</td>\n",
              "      <td>3</td>\n",
              "      <td>1</td>\n",
              "      <td>1</td>\n",
              "      <td>1</td>\n",
              "      <td>5</td>\n",
              "      <td>1</td>\n",
              "      <td>2</td>\n",
              "      <td>7.9</td>\n",
              "      <td>Teams</td>\n",
              "      <td>3</td>\n",
              "    </tr>\n",
              "    <tr>\n",
              "      <th>3</th>\n",
              "      <td>Mizan</td>\n",
              "      <td>LDF</td>\n",
              "      <td>675</td>\n",
              "      <td>61</td>\n",
              "      <td>1</td>\n",
              "      <td>1</td>\n",
              "      <td>1</td>\n",
              "      <td>1</td>\n",
              "      <td>0</td>\n",
              "      <td>0</td>\n",
              "      <td>...</td>\n",
              "      <td>2</td>\n",
              "      <td>1</td>\n",
              "      <td>1</td>\n",
              "      <td>0</td>\n",
              "      <td>3</td>\n",
              "      <td>1</td>\n",
              "      <td>2</td>\n",
              "      <td>8.3</td>\n",
              "      <td>Teams</td>\n",
              "      <td>4</td>\n",
              "    </tr>\n",
              "    <tr>\n",
              "      <th>4</th>\n",
              "      <td>Al Muhandis</td>\n",
              "      <td>LDJ</td>\n",
              "      <td>164</td>\n",
              "      <td>135</td>\n",
              "      <td>1</td>\n",
              "      <td>1</td>\n",
              "      <td>2</td>\n",
              "      <td>1</td>\n",
              "      <td>0</td>\n",
              "      <td>1</td>\n",
              "      <td>...</td>\n",
              "      <td>2</td>\n",
              "      <td>1</td>\n",
              "      <td>0</td>\n",
              "      <td>1</td>\n",
              "      <td>2</td>\n",
              "      <td>1</td>\n",
              "      <td>1</td>\n",
              "      <td>3.3</td>\n",
              "      <td>Teams</td>\n",
              "      <td>4</td>\n",
              "    </tr>\n",
              "  </tbody>\n",
              "</table>\n",
              "<p>5 rows × 23 columns</p>\n",
              "</div>\n",
              "      <button class=\"colab-df-convert\" onclick=\"convertToInteractive('df-a364cbd6-0071-43ce-8640-cf558bd38b56')\"\n",
              "              title=\"Convert this dataframe to an interactive table.\"\n",
              "              style=\"display:none;\">\n",
              "        \n",
              "  <svg xmlns=\"http://www.w3.org/2000/svg\" height=\"24px\"viewBox=\"0 0 24 24\"\n",
              "       width=\"24px\">\n",
              "    <path d=\"M0 0h24v24H0V0z\" fill=\"none\"/>\n",
              "    <path d=\"M18.56 5.44l.94 2.06.94-2.06 2.06-.94-2.06-.94-.94-2.06-.94 2.06-2.06.94zm-11 1L8.5 8.5l.94-2.06 2.06-.94-2.06-.94L8.5 2.5l-.94 2.06-2.06.94zm10 10l.94 2.06.94-2.06 2.06-.94-2.06-.94-.94-2.06-.94 2.06-2.06.94z\"/><path d=\"M17.41 7.96l-1.37-1.37c-.4-.4-.92-.59-1.43-.59-.52 0-1.04.2-1.43.59L10.3 9.45l-7.72 7.72c-.78.78-.78 2.05 0 2.83L4 21.41c.39.39.9.59 1.41.59.51 0 1.02-.2 1.41-.59l7.78-7.78 2.81-2.81c.8-.78.8-2.07 0-2.86zM5.41 20L4 18.59l7.72-7.72 1.47 1.35L5.41 20z\"/>\n",
              "  </svg>\n",
              "      </button>\n",
              "      \n",
              "  <style>\n",
              "    .colab-df-container {\n",
              "      display:flex;\n",
              "      flex-wrap:wrap;\n",
              "      gap: 12px;\n",
              "    }\n",
              "\n",
              "    .colab-df-convert {\n",
              "      background-color: #E8F0FE;\n",
              "      border: none;\n",
              "      border-radius: 50%;\n",
              "      cursor: pointer;\n",
              "      display: none;\n",
              "      fill: #1967D2;\n",
              "      height: 32px;\n",
              "      padding: 0 0 0 0;\n",
              "      width: 32px;\n",
              "    }\n",
              "\n",
              "    .colab-df-convert:hover {\n",
              "      background-color: #E2EBFA;\n",
              "      box-shadow: 0px 1px 2px rgba(60, 64, 67, 0.3), 0px 1px 3px 1px rgba(60, 64, 67, 0.15);\n",
              "      fill: #174EA6;\n",
              "    }\n",
              "\n",
              "    [theme=dark] .colab-df-convert {\n",
              "      background-color: #3B4455;\n",
              "      fill: #D2E3FC;\n",
              "    }\n",
              "\n",
              "    [theme=dark] .colab-df-convert:hover {\n",
              "      background-color: #434B5C;\n",
              "      box-shadow: 0px 1px 3px 1px rgba(0, 0, 0, 0.15);\n",
              "      filter: drop-shadow(0px 1px 2px rgba(0, 0, 0, 0.3));\n",
              "      fill: #FFFFFF;\n",
              "    }\n",
              "  </style>\n",
              "\n",
              "      <script>\n",
              "        const buttonEl =\n",
              "          document.querySelector('#df-a364cbd6-0071-43ce-8640-cf558bd38b56 button.colab-df-convert');\n",
              "        buttonEl.style.display =\n",
              "          google.colab.kernel.accessAllowed ? 'block' : 'none';\n",
              "\n",
              "        async function convertToInteractive(key) {\n",
              "          const element = document.querySelector('#df-a364cbd6-0071-43ce-8640-cf558bd38b56');\n",
              "          const dataTable =\n",
              "            await google.colab.kernel.invokeFunction('convertToInteractive',\n",
              "                                                     [key], {});\n",
              "          if (!dataTable) return;\n",
              "\n",
              "          const docLinkHtml = 'Like what you see? Visit the ' +\n",
              "            '<a target=\"_blank\" href=https://colab.research.google.com/notebooks/data_table.ipynb>data table notebook</a>'\n",
              "            + ' to learn more about interactive tables.';\n",
              "          element.innerHTML = '';\n",
              "          dataTable['output_type'] = 'display_data';\n",
              "          await google.colab.output.renderOutput(dataTable, element);\n",
              "          const docLink = document.createElement('div');\n",
              "          docLink.innerHTML = docLinkHtml;\n",
              "          element.appendChild(docLink);\n",
              "        }\n",
              "      </script>\n",
              "    </div>\n",
              "  </div>\n",
              "  "
            ]
          },
          "metadata": {},
          "execution_count": 4
        }
      ]
    },
    {
      "cell_type": "markdown",
      "source": [
        "### **Data Preparation**"
      ],
      "metadata": {
        "id": "rKQhqr4slDJF"
      }
    },
    {
      "cell_type": "code",
      "source": [
        "# Labelling Tempat_21 column\n",
        "Tempat_21 = []\n",
        "for i in df['Tempat_21']:\n",
        "  if i == 'Teams':\n",
        "    Tempat_21.append(0)\n",
        "  elif i == 'Zoom':\n",
        "    Tempat_21.append(1)\n",
        "  else:\n",
        "    pass\n",
        "df = df.drop(columns = ['Tempat_21'])\n",
        "df['Tempat_21'] = Tempat_21\n",
        "\n",
        "# Make a new column about the comparison value of Jml_Peserta_21 against Jml_Muslim_21\n",
        "df['Perbandingan'] = df['Jml_Peserta_21']/df['Jml_Muslim_21']*100\n",
        "\n",
        "df = df.reset_index(drop = True)\n",
        "df.info()"
      ],
      "metadata": {
        "colab": {
          "base_uri": "https://localhost:8080/"
        },
        "id": "bTxP0ZrKo90v",
        "outputId": "7029ae08-2b13-4316-92e9-c27bbd657896"
      },
      "execution_count": 5,
      "outputs": [
        {
          "output_type": "stream",
          "name": "stdout",
          "text": [
            "<class 'pandas.core.frame.DataFrame'>\n",
            "RangeIndex: 14 entries, 0 to 13\n",
            "Data columns (total 24 columns):\n",
            " #   Column                   Non-Null Count  Dtype  \n",
            "---  ------                   --------------  -----  \n",
            " 0   Nama                     14 non-null     object \n",
            " 1   Ket                      14 non-null     object \n",
            " 2   Jml_Muslim_21            14 non-null     int64  \n",
            " 3   Jml_Peserta_21           14 non-null     int64  \n",
            " 4   Branding_Alasan_Penting  14 non-null     int64  \n",
            " 5   Branding_Manfaat_materi  14 non-null     int64  \n",
            " 6   Jml_Media_Branding       14 non-null     int64  \n",
            " 7   Branding_Instagram       14 non-null     int64  \n",
            " 8   Branding_WA              14 non-null     int64  \n",
            " 9   Branding_Line            14 non-null     int64  \n",
            " 10  Branding_Tiktok          14 non-null     int64  \n",
            " 11  Branding_Sebar_Konten    14 non-null     int64  \n",
            " 12  Branding_Jam_Posting     14 non-null     int64  \n",
            " 13  Jml_Bentuk_Branding      14 non-null     int64  \n",
            " 14  Branding-Pamflet         14 non-null     int64  \n",
            " 15  Branding_Video           14 non-null     int64  \n",
            " 16  Branding_Sosialisasi     14 non-null     int64  \n",
            " 17  Branding_Desain          14 non-null     int64  \n",
            " 18  Branding_Tujuan_Manfaat  14 non-null     int64  \n",
            " 19  Total_Hari_21            14 non-null     int64  \n",
            " 20  Total_Durasi_21          14 non-null     float64\n",
            " 21  Total_Materi_21          14 non-null     int64  \n",
            " 22  Tempat_21                14 non-null     int64  \n",
            " 23  Perbandingan             14 non-null     float64\n",
            "dtypes: float64(2), int64(20), object(2)\n",
            "memory usage: 2.8+ KB\n"
          ]
        }
      ]
    },
    {
      "cell_type": "code",
      "source": [
        "# Repositioning Columns\n",
        "columns = ['Nama', 'Ket', 'Jml_Muslim_21', 'Jml_Peserta_21', 'Perbandingan','Total_Durasi_21', 'Total_Hari_21',\n",
        "       'Total_Materi_21', 'Jml_Media_Branding', 'Jml_Bentuk_Branding',\n",
        "       'Branding_Sebar_Konten', 'Branding_Alasan_Penting',\n",
        "       'Branding_Manfaat_materi', 'Branding_Tujuan_Manfaat', 'Branding_Jam_Posting',\n",
        "       'Tempat_21']\n",
        "\n",
        "df = df.reindex(columns, axis='columns')\n",
        "df[['Total_Hari_21', 'Total_Materi_21', 'Jml_Media_Branding', 'Jml_Bentuk_Branding']] = df[['Total_Hari_21', 'Total_Materi_21','Jml_Media_Branding', 'Jml_Bentuk_Branding']].astype(float)\n",
        "df.info()"
      ],
      "metadata": {
        "colab": {
          "base_uri": "https://localhost:8080/"
        },
        "id": "-dJe9H0-cVOa",
        "outputId": "da8e48f4-62e6-483e-92f9-41e078a03d36"
      },
      "execution_count": 6,
      "outputs": [
        {
          "output_type": "stream",
          "name": "stdout",
          "text": [
            "<class 'pandas.core.frame.DataFrame'>\n",
            "RangeIndex: 14 entries, 0 to 13\n",
            "Data columns (total 16 columns):\n",
            " #   Column                   Non-Null Count  Dtype  \n",
            "---  ------                   --------------  -----  \n",
            " 0   Nama                     14 non-null     object \n",
            " 1   Ket                      14 non-null     object \n",
            " 2   Jml_Muslim_21            14 non-null     int64  \n",
            " 3   Jml_Peserta_21           14 non-null     int64  \n",
            " 4   Perbandingan             14 non-null     float64\n",
            " 5   Total_Durasi_21          14 non-null     float64\n",
            " 6   Total_Hari_21            14 non-null     float64\n",
            " 7   Total_Materi_21          14 non-null     float64\n",
            " 8   Jml_Media_Branding       14 non-null     float64\n",
            " 9   Jml_Bentuk_Branding      14 non-null     float64\n",
            " 10  Branding_Sebar_Konten    14 non-null     int64  \n",
            " 11  Branding_Alasan_Penting  14 non-null     int64  \n",
            " 12  Branding_Manfaat_materi  14 non-null     int64  \n",
            " 13  Branding_Tujuan_Manfaat  14 non-null     int64  \n",
            " 14  Branding_Jam_Posting     14 non-null     int64  \n",
            " 15  Tempat_21                14 non-null     int64  \n",
            "dtypes: float64(6), int64(8), object(2)\n",
            "memory usage: 1.9+ KB\n"
          ]
        }
      ]
    },
    {
      "cell_type": "code",
      "source": [
        "# Rename columns\n",
        "df.rename(columns = {'Total_Durasi_21':'Total_Durasi', 'Total_Hari_21':'Total_Hari', \n",
        "                     'Total_Materi_21':'Total_Materi', 'Branding_Manfaat_materi':'Branding_Manfaat_Materi',\n",
        "                     'Tempat_21':'Tempat'}, inplace = True)\n",
        "df.info()"
      ],
      "metadata": {
        "colab": {
          "base_uri": "https://localhost:8080/"
        },
        "id": "IouYkBBY1EPy",
        "outputId": "a25a8ced-2739-4d22-b8fe-61d9af5b43d2"
      },
      "execution_count": 7,
      "outputs": [
        {
          "output_type": "stream",
          "name": "stdout",
          "text": [
            "<class 'pandas.core.frame.DataFrame'>\n",
            "RangeIndex: 14 entries, 0 to 13\n",
            "Data columns (total 16 columns):\n",
            " #   Column                   Non-Null Count  Dtype  \n",
            "---  ------                   --------------  -----  \n",
            " 0   Nama                     14 non-null     object \n",
            " 1   Ket                      14 non-null     object \n",
            " 2   Jml_Muslim_21            14 non-null     int64  \n",
            " 3   Jml_Peserta_21           14 non-null     int64  \n",
            " 4   Perbandingan             14 non-null     float64\n",
            " 5   Total_Durasi             14 non-null     float64\n",
            " 6   Total_Hari               14 non-null     float64\n",
            " 7   Total_Materi             14 non-null     float64\n",
            " 8   Jml_Media_Branding       14 non-null     float64\n",
            " 9   Jml_Bentuk_Branding      14 non-null     float64\n",
            " 10  Branding_Sebar_Konten    14 non-null     int64  \n",
            " 11  Branding_Alasan_Penting  14 non-null     int64  \n",
            " 12  Branding_Manfaat_Materi  14 non-null     int64  \n",
            " 13  Branding_Tujuan_Manfaat  14 non-null     int64  \n",
            " 14  Branding_Jam_Posting     14 non-null     int64  \n",
            " 15  Tempat                   14 non-null     int64  \n",
            "dtypes: float64(6), int64(8), object(2)\n",
            "memory usage: 1.9+ KB\n"
          ]
        }
      ]
    },
    {
      "cell_type": "markdown",
      "source": [
        "### **Exploratory Data Analysis**"
      ],
      "metadata": {
        "id": "SehANYLpW_nr"
      }
    },
    {
      "cell_type": "code",
      "source": [
        "# Column chart of the number of participants and its comparison values\n",
        "df_Peserta = df[['Nama', 'Jml_Muslim_21', 'Jml_Peserta_21']].set_index('Nama')\n",
        "df_Peserta.rename(columns = {'Jml_Muslim_21':'Mahasiswa Muslim', 'Jml_Peserta_21':'Peserta TR 1'}, inplace = True)\n",
        "fig = plt.figure(figsize=(12,8))\n",
        "ax = plt.subplot2grid((1,1), (0,0))\n",
        "df_Peserta.plot.bar(ax=ax, stacked=False, color=['orange', 'maroon'], alpha=0.8)\n",
        "plt.xlabel(None)\n",
        "plt.ylabel(None)\n",
        "plt.title('The Number of Moslem Students\\n& Event Participants in 2021', fontsize=14)\n",
        "\n",
        "ax.spines['right'].set_visible(False)\n",
        "ax.spines['top'].set_visible(False)\n",
        "\n",
        "# Vertical Line\n",
        "plt.axvline(x = 3.5, linestyle='dashed', linewidth=3, color = 'red')\n",
        "\n",
        "# Showing Labels\n",
        "label = round(df['Perbandingan'].astype(int), 2)\n",
        "\n",
        "a = np.c_[df_Peserta['Mahasiswa Muslim'], df_Peserta['Peserta TR 1']]\n",
        "maxi = np.max(a, axis=1)\n",
        "l = [\"{}%\".format(label[i]) for i in range(0,14)]\n",
        "\n",
        "for i in range(a.shape[0]): \n",
        "    plt.annotate(l[i], xy=(i,maxi[i]), xytext=(0,10), textcoords=\"offset points\",\n",
        "                 ha=\"center\", color='tab:red', weight='bold', fontsize=12)\n",
        "\n",
        "plt.show()"
      ],
      "metadata": {
        "colab": {
          "base_uri": "https://localhost:8080/",
          "height": 588
        },
        "id": "QGIufjxw3XW4",
        "outputId": "898f9a1c-3ed8-4d67-a946-74d72a895692"
      },
      "execution_count": 8,
      "outputs": [
        {
          "output_type": "display_data",
          "data": {
            "text/plain": [
              "<Figure size 864x576 with 1 Axes>"
            ],
            "image/png": "[encoded data removed]"
          },
          "metadata": {
            "needs_background": "light"
          }
        }
      ]
    },
    {
      "cell_type": "markdown",
      "source": [
        "From the chart above, there is a red dashed line which serves as a boundary to distinguish which ones are having a great on its comparison and which ones are having a small one. Red numbers represent the comparison scores."
      ],
      "metadata": {
        "id": "-8ukmWyujS9Z"
      }
    },
    {
      "cell_type": "code",
      "source": [
        "# Number and percentage of Total_Hari\n",
        "fig = plt.figure(figsize=(15,8))\n",
        "ax = plt.subplot2grid((1,2), (0,0))\n",
        "ax1 = plt.subplot2grid((1,2), (0,1))\n",
        "\n",
        "# Pie Chart\n",
        "df_total_hari = pd.DataFrame({'Jumlah':df['Total_Hari'].astype(int).value_counts()})\n",
        "df_total_hari = df_total_hari.reset_index()\n",
        "df_total_hari['index'].replace([1, 2], ['1 Hari', '2 Hari'], inplace=True)\n",
        "df_total_hari = df_total_hari.set_index('index')\n",
        "df_total_hari.plot(kind='pie', ax=ax, y='Jumlah', colors=['orange', 'tab:blue'], labels=None,\n",
        "                   explode=[0.01, 0.01], autopct='%0.0f%%', fontsize=16)\n",
        "ax.set_ylabel(None)\n",
        "ax.set_xlabel(None)\n",
        "ax.set_title('The Percentage of Days')\n",
        "\n",
        "# Column Chart\n",
        "df['Total_Hari'].plot.barh(x=df['Nama'], ax=ax1, color='tab:red')\n",
        "ax1.set_title('The Number of Days')\n",
        "ax1.set_xlabel('Days')\n",
        "plt.yticks(ticks=range(0,14), labels=df['Nama'])\n",
        "\n",
        "plt.show()"
      ],
      "metadata": {
        "colab": {
          "base_uri": "https://localhost:8080/",
          "height": 513
        },
        "id": "dKHR3ZKGEqL_",
        "outputId": "9c28dd7e-940d-4294-e81e-ca46f8df7561"
      },
      "execution_count": 9,
      "outputs": [
        {
          "output_type": "display_data",
          "data": {
            "text/plain": [
              "<Figure size 1080x576 with 2 Axes>"
            ],
            "image/png": "[encoded data removed]"
          },
          "metadata": {
            "needs_background": "light"
          }
        }
      ]
    },
    {
      "cell_type": "markdown",
      "source": [
        "On the left side, we can see that for the number of days during the event, half of them were holding for 2 days and the rest of them were in a day. On the right side, we can see which organizations were holding the event in 2 days and which one in a day.\n",
        "\n",
        "In this case, 2 out of 4 of the organizations who have the lowest comparison scores held the event for 2 days."
      ],
      "metadata": {
        "id": "2PRWbscqAT5e"
      }
    },
    {
      "cell_type": "code",
      "source": [
        "# Chart of Total_Durasi column\n",
        "fig = plt.figure(figsize=(8,6))\n",
        "ax = plt.subplot2grid((1,1), (0,0))\n",
        "\n",
        "df['Total_Durasi'].plot.barh(ax=ax, color='tab:green')\n",
        "plt.title('The Number of Hours')\n",
        "plt.xlabel('Hours')\n",
        "plt.ylabel(None)\n",
        "plt.yticks(ticks=range(0,14), labels=df['Nama'])\n",
        "\n",
        "ax.spines['right'].set_visible(False)\n",
        "ax.spines['top'].set_visible(False)"
      ],
      "metadata": {
        "colab": {
          "base_uri": "https://localhost:8080/",
          "height": 404
        },
        "id": "xucKUQzPCbIW",
        "outputId": "8c93722f-0576-4dc8-c1b1-f9eb05e2bff0"
      },
      "execution_count": 10,
      "outputs": [
        {
          "output_type": "display_data",
          "data": {
            "text/plain": [
              "<Figure size 576x432 with 1 Axes>"
            ],
            "image/png": "[encoded data removed]"
          },
          "metadata": {
            "needs_background": "light"
          }
        }
      ]
    },
    {
      "cell_type": "markdown",
      "source": [
        "Al Fikri becomes the organization that held the event with the longest duration for 12 hours compared to the other. If we look back to the number of days during the event, Al Fikri were held the event for 2 days.\n",
        "\n",
        "Other than Al Fikri, Al Muhandis has the shortest score for duration compared to the other for not more than 4 hours in a day."
      ],
      "metadata": {
        "id": "AiEhnNxMEf1B"
      }
    },
    {
      "cell_type": "code",
      "source": [
        "# Numbers of Jml_Media_Branding & Jml_Bentuk_Branding\n",
        "fig = plt.figure(figsize=(15,8))\n",
        "ax = plt.subplot2grid((1,2), (0,0))\n",
        "ax1 = plt.subplot2grid((1,2), (0,1))\n",
        "\n",
        "# Pie Chart 1\n",
        "df_media = pd.DataFrame({'Jumlah':df['Jml_Media_Branding'].astype(int).value_counts()})\n",
        "df_media = df_media.reset_index()\n",
        "df_media['index'].replace([1, 2, 3], ['1 Media', '2 Media', '3 Media'], inplace=True)\n",
        "df_media = df_media.set_index('index')\n",
        "df_media.plot(kind='pie', ax=ax, y='Jumlah', colors=['orange', 'tab:blue', 'tab:red'], labels=None,\n",
        "                   explode=[0.01, 0.01, 0.01], autopct='%0.0f%%', fontsize=16)\n",
        "ax.set_ylabel(None)\n",
        "ax.set_xlabel(None)\n",
        "ax.set_title('The Percentage\\nof Total Media Promotion', weight='bold')\n",
        "\n",
        "# Pie Chart 2\n",
        "df_bentuk = pd.DataFrame({'Jumlah':df['Jml_Bentuk_Branding'].astype(int).value_counts()})\n",
        "df_bentuk = df_bentuk.reset_index()\n",
        "df_bentuk['index'].replace([1, 2, 3], ['1 Bentuk', '2 Bentuk', '3 Bentuk'], inplace=True)\n",
        "df_bentuk = df_bentuk.set_index('index')\n",
        "df_bentuk = df_bentuk.reindex(['3 Bentuk', '2 Bentuk', '1 Bentuk'])\n",
        "df_bentuk.plot(kind='pie', ax=ax1, y='Jumlah', colors=['orange', 'tab:blue', 'tab:red'], labels=None,\n",
        "                   explode=[0.01, 0.01, 0.01], autopct='%0.0f%%', fontsize=16)\n",
        "ax1.set_ylabel(None)\n",
        "ax1.set_xlabel(None)\n",
        "ax1.set_title('The Percentage\\nof Total Promotion Forms', weight='bold')\n",
        "\n",
        "plt.show()"
      ],
      "metadata": {
        "colab": {
          "base_uri": "https://localhost:8080/",
          "height": 442
        },
        "id": "VBPsVrC1Gy89",
        "outputId": "f1e5c5b1-117c-4d53-e914-9553f2324d68"
      },
      "execution_count": 11,
      "outputs": [
        {
          "output_type": "display_data",
          "data": {
            "text/plain": [
              "<Figure size 1080x576 with 2 Axes>"
            ],
            "image/png": "[encoded data removed]"
          },
          "metadata": {}
        }
      ]
    },
    {
      "cell_type": "markdown",
      "source": [
        "Some organizations were already maximized the promotion from any media. It can be seen that 64% of them were having 3 media for the promotion. Nevertheless, only 43% of the total organizations who did full of 3 forms in promotion, including pamphlet, videos, and socialization (*mouth to mouth*)."
      ],
      "metadata": {
        "id": "Sb7QFUtAKZGu"
      }
    },
    {
      "cell_type": "code",
      "source": [
        "# Showing correlation value between comparison value variable and other variables\n",
        "df_Komponen_Branding = df[['Perbandingan', 'Branding_Alasan_Penting', 'Branding_Manfaat_Materi',\n",
        "       'Branding_Jam_Posting', 'Branding_Tujuan_Manfaat', 'Branding_Sebar_Konten']]\n",
        "\n",
        "df_Lainnya = df[['Perbandingan', 'Total_Hari','Total_Durasi', 'Total_Materi',\n",
        "                 'Tempat', 'Jml_Media_Branding', 'Jml_Bentuk_Branding']]\n",
        "\n",
        "print('Korelasi Dengan Komponen Branding :')\n",
        "print('=================================')\n",
        "Komponen_Branding_Matrix = df_Komponen_Branding.corr()\n",
        "print(Komponen_Branding_Matrix['Perbandingan'].sort_values(ascending = False))\n",
        "\n",
        "print('\\nKorelasi Dengan Lainnya :')\n",
        "print('=================================')\n",
        "Lainnya_Matrix = df_Lainnya.corr()\n",
        "print(Lainnya_Matrix['Perbandingan'].sort_values(ascending = False))"
      ],
      "metadata": {
        "colab": {
          "base_uri": "https://localhost:8080/"
        },
        "id": "4GV2PDjOKXZ3",
        "outputId": "865c19eb-8a5e-4c3f-e7a9-c61f1231076a"
      },
      "execution_count": 12,
      "outputs": [
        {
          "output_type": "stream",
          "name": "stdout",
          "text": [
            "Korelasi Dengan Komponen Branding :\n",
            "=================================\n",
            "Perbandingan               1.000000\n",
            "Branding_Jam_Posting       0.161584\n",
            "Branding_Sebar_Konten     -0.060368\n",
            "Branding_Tujuan_Manfaat   -0.061763\n",
            "Branding_Alasan_Penting   -0.278763\n",
            "Branding_Manfaat_Materi   -0.278763\n",
            "Name: Perbandingan, dtype: float64\n",
            "\n",
            "Korelasi Dengan Lainnya :\n",
            "=================================\n",
            "Perbandingan           1.000000\n",
            "Jml_Media_Branding     0.379506\n",
            "Total_Durasi           0.207917\n",
            "Total_Materi           0.116918\n",
            "Total_Hari             0.105956\n",
            "Tempat                 0.080748\n",
            "Jml_Bentuk_Branding   -0.017256\n",
            "Name: Perbandingan, dtype: float64\n"
          ]
        }
      ]
    },
    {
      "cell_type": "markdown",
      "source": [
        "Branding_Jam_Posting and Jumlah_Media_Branding have the highest correlation with Perbandingan as dependent variable. The larger the value of Branding_Jam_Posting or Jumlah_Media_Branding have, the greater Perbandingan will be. In this case, Branding_Jam_Posting is a categorical variable which consists only 2 values, 1 as True and 0 as False."
      ],
      "metadata": {
        "id": "sMa254eCB6yH"
      }
    },
    {
      "cell_type": "code",
      "source": [
        "# Finding the most frequently observed variable within categorical one.\n",
        "\n",
        "local_dict = {}\n",
        "\n",
        "for column in df.columns[10:-1]:\n",
        "    local_dict[column] = (df[column].values == 1).sum()\n",
        "\n",
        "Variabel_Sering_Dilakukan = dict(sorted(local_dict.items(), key=lambda item: item[1], reverse=True))\n",
        "\n",
        "values1 = list(Variabel_Sering_Dilakukan.values())\n",
        "labels1 = list(Variabel_Sering_Dilakukan.keys())\n",
        "\n",
        "# Creating subplots\n",
        "fig = make_subplots(rows=1, cols=1, specs=[[{'type':'domain'}]])\n",
        "fig.add_trace(go.Pie(labels=labels1, values=values1, name='Variabel Yang Paling Sering Dilakukan'), 1, 1)\n",
        "\n",
        "# Use `hole` to create a donut-like pie chart\n",
        "fig.update_traces(hole=.4, hoverinfo=\"label+percent\")\n",
        "\n",
        "print('The most frequently observed variable :')\n",
        "print('================================================================================')\n",
        "fig.show()"
      ],
      "metadata": {
        "colab": {
          "base_uri": "https://localhost:8080/",
          "height": 577
        },
        "id": "-1XKJim7uXlt",
        "outputId": "c0481756-3911-4bee-a2a0-fc80767d2f9f"
      },
      "execution_count": 13,
      "outputs": [
        {
          "output_type": "stream",
          "name": "stdout",
          "text": [
            "The most frequently observed variable :\n",
            "================================================================================\n"
          ]
        },
        {
          "output_type": "display_data",
          "data": {
            "text/html": [
              "<html>\n",
              "<head><meta charset=\"utf-8\" /></head>\n",
              "<body>\n",
              "    <div>            <script src=\"https://cdnjs.cloudflare.com/ajax/libs/mathjax/2.7.5/MathJax.js?config=TeX-AMS-MML_SVG\"></script><script type=\"text/javascript\">if (window.MathJax) {MathJax.Hub.Config({SVG: {font: \"STIX-Web\"}});}</script>                <script type=\"text/javascript\">window.PlotlyConfig = {MathJaxConfig: 'local'};</script>\n",
              "        <script src=\"https://cdn.plot.ly/plotly-2.8.3.min.js\"></script>                <div id=\"18cba067-ea7a-4896-89d8-81b23e408aea\" class=\"plotly-graph-div\" style=\"height:525px; width:100%;\"></div>            <script type=\"text/javascript\">                                    window.PLOTLYENV=window.PLOTLYENV || {};                                    if (document.getElementById(\"18cba067-ea7a-4896-89d8-81b23e408aea\")) {                    Plotly.newPlot(                        \"18cba067-ea7a-4896-89d8-81b23e408aea\",                        [{\"labels\":[\"Branding_Tujuan_Manfaat\",\"Branding_Alasan_Penting\",\"Branding_Manfaat_Materi\",\"Branding_Jam_Posting\",\"Branding_Sebar_Konten\"],\"name\":\"Variabel Yang Paling Sering Dilakukan\",\"values\":[12,11,11,9,6],\"type\":\"pie\",\"domain\":{\"x\":[0.0,1.0],\"y\":[0.0,1.0]},\"hole\":0.4,\"hoverinfo\":\"label+percent\"}],                        {\"template\":{\"data\":{\"bar\":[{\"error_x\":{\"color\":\"#2a3f5f\"},\"error_y\":{\"color\":\"#2a3f5f\"},\"marker\":{\"line\":{\"color\":\"#E5ECF6\",\"width\":0.5},\"pattern\":{\"fillmode\":\"overlay\",\"size\":10,\"solidity\":0.2}},\"type\":\"bar\"}],\"barpolar\":[{\"marker\":{\"line\":{\"color\":\"#E5ECF6\",\"width\":0.5},\"pattern\":{\"fillmode\":\"overlay\",\"size\":10,\"solidity\":0.2}},\"type\":\"barpolar\"}],\"carpet\":[{\"aaxis\":{\"endlinecolor\":\"#2a3f5f\",\"gridcolor\":\"white\",\"linecolor\":\"white\",\"minorgridcolor\":\"white\",\"startlinecolor\":\"#2a3f5f\"},\"baxis\":{\"endlinecolor\":\"#2a3f5f\",\"gridcolor\":\"white\",\"linecolor\":\"white\",\"minorgridcolor\":\"white\",\"startlinecolor\":\"#2a3f5f\"},\"type\":\"carpet\"}],\"choropleth\":[{\"colorbar\":{\"outlinewidth\":0,\"ticks\":\"\"},\"type\":\"choropleth\"}],\"contour\":[{\"colorbar\":{\"outlinewidth\":0,\"ticks\":\"\"},\"colorscale\":[[0.0,\"#0d0887\"],[0.1111111111111111,\"#46039f\"],[0.2222222222222222,\"#7201a8\"],[0.3333333333333333,\"#9c179e\"],[0.4444444444444444,\"#bd3786\"],[0.5555555555555556,\"#d8576b\"],[0.6666666666666666,\"#ed7953\"],[0.7777777777777778,\"#fb9f3a\"],[0.8888888888888888,\"#fdca26\"],[1.0,\"#f0f921\"]],\"type\":\"contour\"}],\"contourcarpet\":[{\"colorbar\":{\"outlinewidth\":0,\"ticks\":\"\"},\"type\":\"contourcarpet\"}],\"heatmap\":[{\"colorbar\":{\"outlinewidth\":0,\"ticks\":\"\"},\"colorscale\":[[0.0,\"#0d0887\"],[0.1111111111111111,\"#46039f\"],[0.2222222222222222,\"#7201a8\"],[0.3333333333333333,\"#9c179e\"],[0.4444444444444444,\"#bd3786\"],[0.5555555555555556,\"#d8576b\"],[0.6666666666666666,\"#ed7953\"],[0.7777777777777778,\"#fb9f3a\"],[0.8888888888888888,\"#fdca26\"],[1.0,\"#f0f921\"]],\"type\":\"heatmap\"}],\"heatmapgl\":[{\"colorbar\":{\"outlinewidth\":0,\"ticks\":\"\"},\"colorscale\":[[0.0,\"#0d0887\"],[0.1111111111111111,\"#46039f\"],[0.2222222222222222,\"#7201a8\"],[0.3333333333333333,\"#9c179e\"],[0.4444444444444444,\"#bd3786\"],[0.5555555555555556,\"#d8576b\"],[0.6666666666666666,\"#ed7953\"],[0.7777777777777778,\"#fb9f3a\"],[0.8888888888888888,\"#fdca26\"],[1.0,\"#f0f921\"]],\"type\":\"heatmapgl\"}],\"histogram\":[{\"marker\":{\"pattern\":{\"fillmode\":\"overlay\",\"size\":10,\"solidity\":0.2}},\"type\":\"histogram\"}],\"histogram2d\":[{\"colorbar\":{\"outlinewidth\":0,\"ticks\":\"\"},\"colorscale\":[[0.0,\"#0d0887\"],[0.1111111111111111,\"#46039f\"],[0.2222222222222222,\"#7201a8\"],[0.3333333333333333,\"#9c179e\"],[0.4444444444444444,\"#bd3786\"],[0.5555555555555556,\"#d8576b\"],[0.6666666666666666,\"#ed7953\"],[0.7777777777777778,\"#fb9f3a\"],[0.8888888888888888,\"#fdca26\"],[1.0,\"#f0f921\"]],\"type\":\"histogram2d\"}],\"histogram2dcontour\":[{\"colorbar\":{\"outlinewidth\":0,\"ticks\":\"\"},\"colorscale\":[[0.0,\"#0d0887\"],[0.1111111111111111,\"#46039f\"],[0.2222222222222222,\"#7201a8\"],[0.3333333333333333,\"#9c179e\"],[0.4444444444444444,\"#bd3786\"],[0.5555555555555556,\"#d8576b\"],[0.6666666666666666,\"#ed7953\"],[0.7777777777777778,\"#fb9f3a\"],[0.8888888888888888,\"#fdca26\"],[1.0,\"#f0f921\"]],\"type\":\"histogram2dcontour\"}],\"mesh3d\":[{\"colorbar\":{\"outlinewidth\":0,\"ticks\":\"\"},\"type\":\"mesh3d\"}],\"parcoords\":[{\"line\":{\"colorbar\":{\"outlinewidth\":0,\"ticks\":\"\"}},\"type\":\"parcoords\"}],\"pie\":[{\"automargin\":true,\"type\":\"pie\"}],\"scatter\":[{\"marker\":{\"colorbar\":{\"outlinewidth\":0,\"ticks\":\"\"}},\"type\":\"scatter\"}],\"scatter3d\":[{\"line\":{\"colorbar\":{\"outlinewidth\":0,\"ticks\":\"\"}},\"marker\":{\"colorbar\":{\"outlinewidth\":0,\"ticks\":\"\"}},\"type\":\"scatter3d\"}],\"scattercarpet\":[{\"marker\":{\"colorbar\":{\"outlinewidth\":0,\"ticks\":\"\"}},\"type\":\"scattercarpet\"}],\"scattergeo\":[{\"marker\":{\"colorbar\":{\"outlinewidth\":0,\"ticks\":\"\"}},\"type\":\"scattergeo\"}],\"scattergl\":[{\"marker\":{\"colorbar\":{\"outlinewidth\":0,\"ticks\":\"\"}},\"type\":\"scattergl\"}],\"scattermapbox\":[{\"marker\":{\"colorbar\":{\"outlinewidth\":0,\"ticks\":\"\"}},\"type\":\"scattermapbox\"}],\"scatterpolar\":[{\"marker\":{\"colorbar\":{\"outlinewidth\":0,\"ticks\":\"\"}},\"type\":\"scatterpolar\"}],\"scatterpolargl\":[{\"marker\":{\"colorbar\":{\"outlinewidth\":0,\"ticks\":\"\"}},\"type\":\"scatterpolargl\"}],\"scatterternary\":[{\"marker\":{\"colorbar\":{\"outlinewidth\":0,\"ticks\":\"\"}},\"type\":\"scatterternary\"}],\"surface\":[{\"colorbar\":{\"outlinewidth\":0,\"ticks\":\"\"},\"colorscale\":[[0.0,\"#0d0887\"],[0.1111111111111111,\"#46039f\"],[0.2222222222222222,\"#7201a8\"],[0.3333333333333333,\"#9c179e\"],[0.4444444444444444,\"#bd3786\"],[0.5555555555555556,\"#d8576b\"],[0.6666666666666666,\"#ed7953\"],[0.7777777777777778,\"#fb9f3a\"],[0.8888888888888888,\"#fdca26\"],[1.0,\"#f0f921\"]],\"type\":\"surface\"}],\"table\":[{\"cells\":{\"fill\":{\"color\":\"#EBF0F8\"},\"line\":{\"color\":\"white\"}},\"header\":{\"fill\":{\"color\":\"#C8D4E3\"},\"line\":{\"color\":\"white\"}},\"type\":\"table\"}]},\"layout\":{\"annotationdefaults\":{\"arrowcolor\":\"#2a3f5f\",\"arrowhead\":0,\"arrowwidth\":1},\"autotypenumbers\":\"strict\",\"coloraxis\":{\"colorbar\":{\"outlinewidth\":0,\"ticks\":\"\"}},\"colorscale\":{\"diverging\":[[0,\"#8e0152\"],[0.1,\"#c51b7d\"],[0.2,\"#de77ae\"],[0.3,\"#f1b6da\"],[0.4,\"#fde0ef\"],[0.5,\"#f7f7f7\"],[0.6,\"#e6f5d0\"],[0.7,\"#b8e186\"],[0.8,\"#7fbc41\"],[0.9,\"#4d9221\"],[1,\"#276419\"]],\"sequential\":[[0.0,\"#0d0887\"],[0.1111111111111111,\"#46039f\"],[0.2222222222222222,\"#7201a8\"],[0.3333333333333333,\"#9c179e\"],[0.4444444444444444,\"#bd3786\"],[0.5555555555555556,\"#d8576b\"],[0.6666666666666666,\"#ed7953\"],[0.7777777777777778,\"#fb9f3a\"],[0.8888888888888888,\"#fdca26\"],[1.0,\"#f0f921\"]],\"sequentialminus\":[[0.0,\"#0d0887\"],[0.1111111111111111,\"#46039f\"],[0.2222222222222222,\"#7201a8\"],[0.3333333333333333,\"#9c179e\"],[0.4444444444444444,\"#bd3786\"],[0.5555555555555556,\"#d8576b\"],[0.6666666666666666,\"#ed7953\"],[0.7777777777777778,\"#fb9f3a\"],[0.8888888888888888,\"#fdca26\"],[1.0,\"#f0f921\"]]},\"colorway\":[\"#636efa\",\"#EF553B\",\"#00cc96\",\"#ab63fa\",\"#FFA15A\",\"#19d3f3\",\"#FF6692\",\"#B6E880\",\"#FF97FF\",\"#FECB52\"],\"font\":{\"color\":\"#2a3f5f\"},\"geo\":{\"bgcolor\":\"white\",\"lakecolor\":\"white\",\"landcolor\":\"#E5ECF6\",\"showlakes\":true,\"showland\":true,\"subunitcolor\":\"white\"},\"hoverlabel\":{\"align\":\"left\"},\"hovermode\":\"closest\",\"mapbox\":{\"style\":\"light\"},\"paper_bgcolor\":\"white\",\"plot_bgcolor\":\"#E5ECF6\",\"polar\":{\"angularaxis\":{\"gridcolor\":\"white\",\"linecolor\":\"white\",\"ticks\":\"\"},\"bgcolor\":\"#E5ECF6\",\"radialaxis\":{\"gridcolor\":\"white\",\"linecolor\":\"white\",\"ticks\":\"\"}},\"scene\":{\"xaxis\":{\"backgroundcolor\":\"#E5ECF6\",\"gridcolor\":\"white\",\"gridwidth\":2,\"linecolor\":\"white\",\"showbackground\":true,\"ticks\":\"\",\"zerolinecolor\":\"white\"},\"yaxis\":{\"backgroundcolor\":\"#E5ECF6\",\"gridcolor\":\"white\",\"gridwidth\":2,\"linecolor\":\"white\",\"showbackground\":true,\"ticks\":\"\",\"zerolinecolor\":\"white\"},\"zaxis\":{\"backgroundcolor\":\"#E5ECF6\",\"gridcolor\":\"white\",\"gridwidth\":2,\"linecolor\":\"white\",\"showbackground\":true,\"ticks\":\"\",\"zerolinecolor\":\"white\"}},\"shapedefaults\":{\"line\":{\"color\":\"#2a3f5f\"}},\"ternary\":{\"aaxis\":{\"gridcolor\":\"white\",\"linecolor\":\"white\",\"ticks\":\"\"},\"baxis\":{\"gridcolor\":\"white\",\"linecolor\":\"white\",\"ticks\":\"\"},\"bgcolor\":\"#E5ECF6\",\"caxis\":{\"gridcolor\":\"white\",\"linecolor\":\"white\",\"ticks\":\"\"}},\"title\":{\"x\":0.05},\"xaxis\":{\"automargin\":true,\"gridcolor\":\"white\",\"linecolor\":\"white\",\"ticks\":\"\",\"title\":{\"standoff\":15},\"zerolinecolor\":\"white\",\"zerolinewidth\":2},\"yaxis\":{\"automargin\":true,\"gridcolor\":\"white\",\"linecolor\":\"white\",\"ticks\":\"\",\"title\":{\"standoff\":15},\"zerolinecolor\":\"white\",\"zerolinewidth\":2}}}},                        {\"responsive\": true}                    ).then(function(){\n",
              "                            \n",
              "var gd = document.getElementById('18cba067-ea7a-4896-89d8-81b23e408aea');\n",
              "var x = new MutationObserver(function (mutations, observer) {{\n",
              "        var display = window.getComputedStyle(gd).display;\n",
              "        if (!display || display === 'none') {{\n",
              "            console.log([gd, 'removed!']);\n",
              "            Plotly.purge(gd);\n",
              "            observer.disconnect();\n",
              "        }}\n",
              "}});\n",
              "\n",
              "// Listen for the removal of the full notebook cells\n",
              "var notebookContainer = gd.closest('#notebook-container');\n",
              "if (notebookContainer) {{\n",
              "    x.observe(notebookContainer, {childList: true});\n",
              "}}\n",
              "\n",
              "// Listen for the clearing of the current output cell\n",
              "var outputEl = gd.closest('.output');\n",
              "if (outputEl) {{\n",
              "    x.observe(outputEl, {childList: true});\n",
              "}}\n",
              "\n",
              "                        })                };                            </script>        </div>\n",
              "</body>\n",
              "</html>"
            ]
          },
          "metadata": {}
        }
      ]
    },
    {
      "cell_type": "markdown",
      "source": [
        "Here we can see that Branding_Tujuan_Manfaat is the most frequent oberved variable followed by Branding_Alasan_Penting and Branding_Manfaat_Materi. Whereas, Branding_Sebar_Konten becomes the least one, followed by Branding_Jam_Posting.\n",
        "\n",
        "It means that most of the organizations were rarely observed who and how many committees were participating in promoting the event. Then, most of them were also rarely observed when and at what time they used to promote the event."
      ],
      "metadata": {
        "id": "Y3GGRSaFSexV"
      }
    },
    {
      "cell_type": "code",
      "source": [
        "# Identifying outliers with box plot for numerical one\n",
        "df_num_scaled = StandardScaler().fit_transform(df[['Total_Hari', 'Total_Materi', 'Total_Durasi',\n",
        "                                                   'Jml_Media_Branding', 'Jml_Bentuk_Branding']])\n",
        "\n",
        "fig, ax = plt.subplots(nrows=1, ncols=1, figsize=(10, 8))\n",
        "ax = pd.DataFrame(df_num_scaled).boxplot(notch=False, vert=True, patch_artist=True, showbox=True,\n",
        "                         showmeans=True, color='salmon')\n",
        "ax.set_title('Box Plot : Identifying Outliers', fontsize=14)\n",
        "ax.yaxis.grid(True)\n",
        "ax.set_ylabel('Nilai Standarisasi', fontsize=12)"
      ],
      "metadata": {
        "colab": {
          "base_uri": "https://localhost:8080/",
          "height": 517
        },
        "id": "17U4dlqYU-IV",
        "outputId": "48a36218-9d7b-4f58-f2f7-614a9604653a"
      },
      "execution_count": 14,
      "outputs": [
        {
          "output_type": "execute_result",
          "data": {
            "text/plain": [
              "Text(0, 0.5, 'Nilai Standarisasi')"
            ]
          },
          "metadata": {},
          "execution_count": 14
        },
        {
          "output_type": "display_data",
          "data": {
            "text/plain": [
              "<Figure size 720x576 with 1 Axes>"
            ],
            "image/png": "[encoded data removed]"
          },
          "metadata": {
            "needs_background": "light"
          }
        }
      ]
    },
    {
      "cell_type": "markdown",
      "source": [
        "We can clearly see that there is no outlier within the numerical columns (consist of Total_Hari, Total_Materi, Total_Durasi, Jml_Media_Branding, Jml_Bentuk_Branding)."
      ],
      "metadata": {
        "id": "DgxYAIoMr3Tj"
      }
    },
    {
      "cell_type": "markdown",
      "source": [
        "### **Modelling & Evaluation : K-Prototypes Clustering**\n",
        "\n",
        "The first model I used in this project is K-Prototypes Clustering. The aim of this model is to find the fit cluster of each organization who held the islamic event from 11 variables that already mentioned before. In this case, Perbandingan will be the dependent one.\n",
        "\n",
        "The reason why I used this model is because the dataset has 2 types of data, numerical and categorical, as its independent variable. Whereas, the dependent one was in the type of numerical and didn't have any labeled one. Therefore, Based on what I've learned, K-Prototypes would be fit on this model for clustering."
      ],
      "metadata": {
        "id": "POMrYEawSa2W"
      }
    },
    {
      "cell_type": "code",
      "source": [
        "X.columns"
      ],
      "metadata": {
        "colab": {
          "base_uri": "https://localhost:8080/"
        },
        "id": "-DJWscOzWM0d",
        "outputId": "a07ce001-fa66-4260-d06d-522645afdc44"
      },
      "execution_count": 20,
      "outputs": [
        {
          "output_type": "execute_result",
          "data": {
            "text/plain": [
              "Index(['Total_Durasi', 'Total_Hari', 'Total_Materi', 'Jml_Media_Branding',\n",
              "       'Jml_Bentuk_Branding', 'Branding_Sebar_Konten',\n",
              "       'Branding_Alasan_Penting', 'Branding_Manfaat_Materi',\n",
              "       'Branding_Tujuan_Manfaat', 'Branding_Jam_Posting', 'Tempat'],\n",
              "      dtype='object')"
            ]
          },
          "metadata": {},
          "execution_count": 20
        }
      ]
    },
    {
      "cell_type": "code",
      "source": [
        "# Defining variables\n",
        "X = df.drop(columns=['Nama', 'Ket', 'Jml_Muslim_21', 'Jml_Peserta_21', 'Perbandingan'])\n",
        "y = df['Perbandingan']\n",
        "\n",
        "# DataFrame to an array\n",
        "smart_array = X.values\n",
        "\n",
        "# Index of categorical columns\n",
        "categorical_index = list(range(5, 11))"
      ],
      "metadata": {
        "id": "o9c5RwawYkEy"
      },
      "execution_count": 21,
      "outputs": []
    },
    {
      "cell_type": "code",
      "source": [
        "# Function for plotting elbow curve\n",
        "def plot_elbow_curve(start, end, data):\n",
        "    no_of_clusters = list(range(start, end+1))\n",
        "    cost_values = []\n",
        "    \n",
        "    for k in no_of_clusters:\n",
        "        test_model = KPrototypes(n_clusters=k, init='Cao', random_state=42, n_jobs=-1)\n",
        "        test_model.fit_predict(data, categorical=categorical_index)\n",
        "        cost_values.append(test_model.cost_)\n",
        "        \n",
        "    sns.set_theme(style=\"whitegrid\", palette=\"bright\", font_scale=1.2)\n",
        "    \n",
        "    plt.figure(figsize=(8, 8))\n",
        "    ax = sns.lineplot(x=no_of_clusters, y=cost_values, marker=\"o\", dashes=False)\n",
        "    ax.set_title('Elbow curve', fontsize=18)\n",
        "    ax.set_xlabel('No of clusters', fontsize=14)\n",
        "    ax.set_ylabel('Cost', fontsize=14)\n",
        "    ax.set(xlim=(start-0.1, end+0.1))\n",
        "    plt.plot();\n",
        "    \n",
        "# Plotting elbow curve for k=1 to k=10\n",
        "plot_elbow_curve(1,5, smart_array)"
      ],
      "metadata": {
        "colab": {
          "base_uri": "https://localhost:8080/",
          "height": 526
        },
        "id": "7BW5lJg2ahZg",
        "outputId": "1d608520-59d1-497c-c4ed-ac9a3422e9d3"
      },
      "execution_count": 44,
      "outputs": [
        {
          "output_type": "display_data",
          "data": {
            "text/plain": [
              "<Figure size 576x576 with 1 Axes>"
            ],
            "image/png": "[encoded data removed]"
          },
          "metadata": {}
        }
      ]
    },
    {
      "cell_type": "markdown",
      "source": [
        "We can see that there is an indentation in k=2, therefore I would 2 as the number of clusters."
      ],
      "metadata": {
        "id": "YECx5uu8sKNL"
      }
    },
    {
      "cell_type": "code",
      "source": [
        "# Model of 2 clusters\n",
        "model_2 = KPrototypes(n_clusters=2, init='Cao', random_state=42, n_jobs=-1)\n",
        "print(model_2.fit_predict(smart_array, categorical=categorical_index))\n",
        "print('Cost : %s' %model_2.cost_)"
      ],
      "metadata": {
        "colab": {
          "base_uri": "https://localhost:8080/"
        },
        "id": "Euz-iEh7fVC6",
        "outputId": "59f6d2c9-de54-4166-9e79-83cd080da682"
      },
      "execution_count": 28,
      "outputs": [
        {
          "output_type": "stream",
          "name": "stdout",
          "text": [
            "[1 1 0 0 1 0 1 0 1 0 0 0 0 0]\n",
            "Cost : 71.01156470129428\n"
          ]
        }
      ]
    },
    {
      "cell_type": "code",
      "source": [
        "pd.set_option('max_rows',None)\n",
        "df['labels2'] = model_2.labels_\n",
        "df.groupby('labels2').agg(['median' ,'mean']).T"
      ],
      "metadata": {
        "colab": {
          "base_uri": "https://localhost:8080/",
          "height": 927
        },
        "id": "r40SZxBllEqc",
        "outputId": "a28911de-761a-440f-c584-9d11b25bb6fb"
      },
      "execution_count": 29,
      "outputs": [
        {
          "output_type": "execute_result",
          "data": {
            "text/plain": [
              "labels2                                  0           1\n",
              "Jml_Muslim_21           median  115.000000  174.000000\n",
              "                        mean    214.555556  236.600000\n",
              "Jml_Peserta_21          median  115.000000   82.000000\n",
              "                        mean     96.888889  100.400000\n",
              "Perbandingan            median  100.000000   82.317073\n",
              "                        mean     92.406173   74.262228\n",
              "Total_Durasi            median    7.900000    4.000000\n",
              "                        mean      8.377778    4.220000\n",
              "Total_Hari              median    2.000000    1.000000\n",
              "                        mean      1.777778    1.000000\n",
              "Total_Materi            median    3.000000    2.000000\n",
              "                        mean      3.222222    2.800000\n",
              "Jml_Media_Branding      median    3.000000    3.000000\n",
              "                        mean      2.555556    2.400000\n",
              "Jml_Bentuk_Branding     median    2.000000    2.000000\n",
              "                        mean      2.222222    2.000000\n",
              "Branding_Sebar_Konten   median    1.000000    0.000000\n",
              "                        mean      0.555556    0.200000\n",
              "Branding_Alasan_Penting median    1.000000    1.000000\n",
              "                        mean      0.777778    0.800000\n",
              "Branding_Manfaat_Materi median    1.000000    1.000000\n",
              "                        mean      0.777778    0.800000\n",
              "Branding_Tujuan_Manfaat median    1.000000    1.000000\n",
              "                        mean      0.777778    1.000000\n",
              "Branding_Jam_Posting    median    1.000000    1.000000\n",
              "                        mean      0.666667    0.600000\n",
              "Tempat                  median    0.000000    0.000000\n",
              "                        mean      0.222222    0.200000"
            ],
            "text/html": [
              "\n",
              "  <div id=\"df-7caabacf-9bb8-47bc-851a-a89a071bdd3d\">\n",
              "    <div class=\"colab-df-container\">\n",
              "      <div>\n",
              "<style scoped>\n",
              "    .dataframe tbody tr th:only-of-type {\n",
              "        vertical-align: middle;\n",
              "    }\n",
              "\n",
              "    .dataframe tbody tr th {\n",
              "        vertical-align: top;\n",
              "    }\n",
              "\n",
              "    .dataframe thead th {\n",
              "        text-align: right;\n",
              "    }\n",
              "</style>\n",
              "<table border=\"1\" class=\"dataframe\">\n",
              "  <thead>\n",
              "    <tr style=\"text-align: right;\">\n",
              "      <th></th>\n",
              "      <th>labels2</th>\n",
              "      <th>0</th>\n",
              "      <th>1</th>\n",
              "    </tr>\n",
              "  </thead>\n",
              "  <tbody>\n",
              "    <tr>\n",
              "      <th rowspan=\"2\" valign=\"top\">Jml_Muslim_21</th>\n",
              "      <th>median</th>\n",
              "      <td>115.000000</td>\n",
              "      <td>174.000000</td>\n",
              "    </tr>\n",
              "    <tr>\n",
              "      <th>mean</th>\n",
              "      <td>214.555556</td>\n",
              "      <td>236.600000</td>\n",
              "    </tr>\n",
              "    <tr>\n",
              "      <th rowspan=\"2\" valign=\"top\">Jml_Peserta_21</th>\n",
              "      <th>median</th>\n",
              "      <td>115.000000</td>\n",
              "      <td>82.000000</td>\n",
              "    </tr>\n",
              "    <tr>\n",
              "      <th>mean</th>\n",
              "      <td>96.888889</td>\n",
              "      <td>100.400000</td>\n",
              "    </tr>\n",
              "    <tr>\n",
              "      <th rowspan=\"2\" valign=\"top\">Perbandingan</th>\n",
              "      <th>median</th>\n",
              "      <td>100.000000</td>\n",
              "      <td>82.317073</td>\n",
              "    </tr>\n",
              "    <tr>\n",
              "      <th>mean</th>\n",
              "      <td>92.406173</td>\n",
              "      <td>74.262228</td>\n",
              "    </tr>\n",
              "    <tr>\n",
              "      <th rowspan=\"2\" valign=\"top\">Total_Durasi</th>\n",
              "      <th>median</th>\n",
              "      <td>7.900000</td>\n",
              "      <td>4.000000</td>\n",
              "    </tr>\n",
              "    <tr>\n",
              "      <th>mean</th>\n",
              "      <td>8.377778</td>\n",
              "      <td>4.220000</td>\n",
              "    </tr>\n",
              "    <tr>\n",
              "      <th rowspan=\"2\" valign=\"top\">Total_Hari</th>\n",
              "      <th>median</th>\n",
              "      <td>2.000000</td>\n",
              "      <td>1.000000</td>\n",
              "    </tr>\n",
              "    <tr>\n",
              "      <th>mean</th>\n",
              "      <td>1.777778</td>\n",
              "      <td>1.000000</td>\n",
              "    </tr>\n",
              "    <tr>\n",
              "      <th rowspan=\"2\" valign=\"top\">Total_Materi</th>\n",
              "      <th>median</th>\n",
              "      <td>3.000000</td>\n",
              "      <td>2.000000</td>\n",
              "    </tr>\n",
              "    <tr>\n",
              "      <th>mean</th>\n",
              "      <td>3.222222</td>\n",
              "      <td>2.800000</td>\n",
              "    </tr>\n",
              "    <tr>\n",
              "      <th rowspan=\"2\" valign=\"top\">Jml_Media_Branding</th>\n",
              "      <th>median</th>\n",
              "      <td>3.000000</td>\n",
              "      <td>3.000000</td>\n",
              "    </tr>\n",
              "    <tr>\n",
              "      <th>mean</th>\n",
              "      <td>2.555556</td>\n",
              "      <td>2.400000</td>\n",
              "    </tr>\n",
              "    <tr>\n",
              "      <th rowspan=\"2\" valign=\"top\">Jml_Bentuk_Branding</th>\n",
              "      <th>median</th>\n",
              "      <td>2.000000</td>\n",
              "      <td>2.000000</td>\n",
              "    </tr>\n",
              "    <tr>\n",
              "      <th>mean</th>\n",
              "      <td>2.222222</td>\n",
              "      <td>2.000000</td>\n",
              "    </tr>\n",
              "    <tr>\n",
              "      <th rowspan=\"2\" valign=\"top\">Branding_Sebar_Konten</th>\n",
              "      <th>median</th>\n",
              "      <td>1.000000</td>\n",
              "      <td>0.000000</td>\n",
              "    </tr>\n",
              "    <tr>\n",
              "      <th>mean</th>\n",
              "      <td>0.555556</td>\n",
              "      <td>0.200000</td>\n",
              "    </tr>\n",
              "    <tr>\n",
              "      <th rowspan=\"2\" valign=\"top\">Branding_Alasan_Penting</th>\n",
              "      <th>median</th>\n",
              "      <td>1.000000</td>\n",
              "      <td>1.000000</td>\n",
              "    </tr>\n",
              "    <tr>\n",
              "      <th>mean</th>\n",
              "      <td>0.777778</td>\n",
              "      <td>0.800000</td>\n",
              "    </tr>\n",
              "    <tr>\n",
              "      <th rowspan=\"2\" valign=\"top\">Branding_Manfaat_Materi</th>\n",
              "      <th>median</th>\n",
              "      <td>1.000000</td>\n",
              "      <td>1.000000</td>\n",
              "    </tr>\n",
              "    <tr>\n",
              "      <th>mean</th>\n",
              "      <td>0.777778</td>\n",
              "      <td>0.800000</td>\n",
              "    </tr>\n",
              "    <tr>\n",
              "      <th rowspan=\"2\" valign=\"top\">Branding_Tujuan_Manfaat</th>\n",
              "      <th>median</th>\n",
              "      <td>1.000000</td>\n",
              "      <td>1.000000</td>\n",
              "    </tr>\n",
              "    <tr>\n",
              "      <th>mean</th>\n",
              "      <td>0.777778</td>\n",
              "      <td>1.000000</td>\n",
              "    </tr>\n",
              "    <tr>\n",
              "      <th rowspan=\"2\" valign=\"top\">Branding_Jam_Posting</th>\n",
              "      <th>median</th>\n",
              "      <td>1.000000</td>\n",
              "      <td>1.000000</td>\n",
              "    </tr>\n",
              "    <tr>\n",
              "      <th>mean</th>\n",
              "      <td>0.666667</td>\n",
              "      <td>0.600000</td>\n",
              "    </tr>\n",
              "    <tr>\n",
              "      <th rowspan=\"2\" valign=\"top\">Tempat</th>\n",
              "      <th>median</th>\n",
              "      <td>0.000000</td>\n",
              "      <td>0.000000</td>\n",
              "    </tr>\n",
              "    <tr>\n",
              "      <th>mean</th>\n",
              "      <td>0.222222</td>\n",
              "      <td>0.200000</td>\n",
              "    </tr>\n",
              "  </tbody>\n",
              "</table>\n",
              "</div>\n",
              "      <button class=\"colab-df-convert\" onclick=\"convertToInteractive('df-7caabacf-9bb8-47bc-851a-a89a071bdd3d')\"\n",
              "              title=\"Convert this dataframe to an interactive table.\"\n",
              "              style=\"display:none;\">\n",
              "        \n",
              "  <svg xmlns=\"http://www.w3.org/2000/svg\" height=\"24px\"viewBox=\"0 0 24 24\"\n",
              "       width=\"24px\">\n",
              "    <path d=\"M0 0h24v24H0V0z\" fill=\"none\"/>\n",
              "    <path d=\"M18.56 5.44l.94 2.06.94-2.06 2.06-.94-2.06-.94-.94-2.06-.94 2.06-2.06.94zm-11 1L8.5 8.5l.94-2.06 2.06-.94-2.06-.94L8.5 2.5l-.94 2.06-2.06.94zm10 10l.94 2.06.94-2.06 2.06-.94-2.06-.94-.94-2.06-.94 2.06-2.06.94z\"/><path d=\"M17.41 7.96l-1.37-1.37c-.4-.4-.92-.59-1.43-.59-.52 0-1.04.2-1.43.59L10.3 9.45l-7.72 7.72c-.78.78-.78 2.05 0 2.83L4 21.41c.39.39.9.59 1.41.59.51 0 1.02-.2 1.41-.59l7.78-7.78 2.81-2.81c.8-.78.8-2.07 0-2.86zM5.41 20L4 18.59l7.72-7.72 1.47 1.35L5.41 20z\"/>\n",
              "  </svg>\n",
              "      </button>\n",
              "      \n",
              "  <style>\n",
              "    .colab-df-container {\n",
              "      display:flex;\n",
              "      flex-wrap:wrap;\n",
              "      gap: 12px;\n",
              "    }\n",
              "\n",
              "    .colab-df-convert {\n",
              "      background-color: #E8F0FE;\n",
              "      border: none;\n",
              "      border-radius: 50%;\n",
              "      cursor: pointer;\n",
              "      display: none;\n",
              "      fill: #1967D2;\n",
              "      height: 32px;\n",
              "      padding: 0 0 0 0;\n",
              "      width: 32px;\n",
              "    }\n",
              "\n",
              "    .colab-df-convert:hover {\n",
              "      background-color: #E2EBFA;\n",
              "      box-shadow: 0px 1px 2px rgba(60, 64, 67, 0.3), 0px 1px 3px 1px rgba(60, 64, 67, 0.15);\n",
              "      fill: #174EA6;\n",
              "    }\n",
              "\n",
              "    [theme=dark] .colab-df-convert {\n",
              "      background-color: #3B4455;\n",
              "      fill: #D2E3FC;\n",
              "    }\n",
              "\n",
              "    [theme=dark] .colab-df-convert:hover {\n",
              "      background-color: #434B5C;\n",
              "      box-shadow: 0px 1px 3px 1px rgba(0, 0, 0, 0.15);\n",
              "      filter: drop-shadow(0px 1px 2px rgba(0, 0, 0, 0.3));\n",
              "      fill: #FFFFFF;\n",
              "    }\n",
              "  </style>\n",
              "\n",
              "      <script>\n",
              "        const buttonEl =\n",
              "          document.querySelector('#df-7caabacf-9bb8-47bc-851a-a89a071bdd3d button.colab-df-convert');\n",
              "        buttonEl.style.display =\n",
              "          google.colab.kernel.accessAllowed ? 'block' : 'none';\n",
              "\n",
              "        async function convertToInteractive(key) {\n",
              "          const element = document.querySelector('#df-7caabacf-9bb8-47bc-851a-a89a071bdd3d');\n",
              "          const dataTable =\n",
              "            await google.colab.kernel.invokeFunction('convertToInteractive',\n",
              "                                                     [key], {});\n",
              "          if (!dataTable) return;\n",
              "\n",
              "          const docLinkHtml = 'Like what you see? Visit the ' +\n",
              "            '<a target=\"_blank\" href=https://colab.research.google.com/notebooks/data_table.ipynb>data table notebook</a>'\n",
              "            + ' to learn more about interactive tables.';\n",
              "          element.innerHTML = '';\n",
              "          dataTable['output_type'] = 'display_data';\n",
              "          await google.colab.output.renderOutput(dataTable, element);\n",
              "          const docLink = document.createElement('div');\n",
              "          docLink.innerHTML = docLinkHtml;\n",
              "          element.appendChild(docLink);\n",
              "        }\n",
              "      </script>\n",
              "    </div>\n",
              "  </div>\n",
              "  "
            ]
          },
          "metadata": {},
          "execution_count": 29
        }
      ]
    },
    {
      "cell_type": "code",
      "source": [
        "df[['Nama', 'Ket', 'Perbandingan', 'labels2']]"
      ],
      "metadata": {
        "id": "cNkg2-TilPTh",
        "colab": {
          "base_uri": "https://localhost:8080/",
          "height": 488
        },
        "outputId": "92b0c928-7376-456c-db49-0f96cf921323"
      },
      "execution_count": 30,
      "outputs": [
        {
          "output_type": "execute_result",
          "data": {
            "text/plain": [
              "               Nama  Ket  Perbandingan  labels2\n",
              "0        KM An Nahl  LDF      7.085020        1\n",
              "1            Gamais  LDF     27.090301        1\n",
              "2          Kharisma  LDF      3.389831        0\n",
              "3             Mizan  LDF      9.037037        0\n",
              "4       Al Muhandis  LDJ     82.317073        1\n",
              "5          Averroes  LDJ     89.189189        0\n",
              "6        Al Madinah  LDJ     97.126437        1\n",
              "7           Fimkagi  LDJ    100.000000        0\n",
              "8   Nami As Safinah  LDJ    157.692308        1\n",
              "9     Hayatun Nufus  LDJ    185.148515        0\n",
              "10           Kesima  LDJ     88.571429        0\n",
              "11        Asy Syifa  LDJ    100.000000        0\n",
              "12           Nuansa  LDJ    103.378378        0\n",
              "13         Al Fikri  LDJ    152.941176        0"
            ],
            "text/html": [
              "\n",
              "  <div id=\"df-20c36b29-1050-4096-855d-b6e7fa527240\">\n",
              "    <div class=\"colab-df-container\">\n",
              "      <div>\n",
              "<style scoped>\n",
              "    .dataframe tbody tr th:only-of-type {\n",
              "        vertical-align: middle;\n",
              "    }\n",
              "\n",
              "    .dataframe tbody tr th {\n",
              "        vertical-align: top;\n",
              "    }\n",
              "\n",
              "    .dataframe thead th {\n",
              "        text-align: right;\n",
              "    }\n",
              "</style>\n",
              "<table border=\"1\" class=\"dataframe\">\n",
              "  <thead>\n",
              "    <tr style=\"text-align: right;\">\n",
              "      <th></th>\n",
              "      <th>Nama</th>\n",
              "      <th>Ket</th>\n",
              "      <th>Perbandingan</th>\n",
              "      <th>labels2</th>\n",
              "    </tr>\n",
              "  </thead>\n",
              "  <tbody>\n",
              "    <tr>\n",
              "      <th>0</th>\n",
              "      <td>KM An Nahl</td>\n",
              "      <td>LDF</td>\n",
              "      <td>7.085020</td>\n",
              "      <td>1</td>\n",
              "    </tr>\n",
              "    <tr>\n",
              "      <th>1</th>\n",
              "      <td>Gamais</td>\n",
              "      <td>LDF</td>\n",
              "      <td>27.090301</td>\n",
              "      <td>1</td>\n",
              "    </tr>\n",
              "    <tr>\n",
              "      <th>2</th>\n",
              "      <td>Kharisma</td>\n",
              "      <td>LDF</td>\n",
              "      <td>3.389831</td>\n",
              "      <td>0</td>\n",
              "    </tr>\n",
              "    <tr>\n",
              "      <th>3</th>\n",
              "      <td>Mizan</td>\n",
              "      <td>LDF</td>\n",
              "      <td>9.037037</td>\n",
              "      <td>0</td>\n",
              "    </tr>\n",
              "    <tr>\n",
              "      <th>4</th>\n",
              "      <td>Al Muhandis</td>\n",
              "      <td>LDJ</td>\n",
              "      <td>82.317073</td>\n",
              "      <td>1</td>\n",
              "    </tr>\n",
              "    <tr>\n",
              "      <th>5</th>\n",
              "      <td>Averroes</td>\n",
              "      <td>LDJ</td>\n",
              "      <td>89.189189</td>\n",
              "      <td>0</td>\n",
              "    </tr>\n",
              "    <tr>\n",
              "      <th>6</th>\n",
              "      <td>Al Madinah</td>\n",
              "      <td>LDJ</td>\n",
              "      <td>97.126437</td>\n",
              "      <td>1</td>\n",
              "    </tr>\n",
              "    <tr>\n",
              "      <th>7</th>\n",
              "      <td>Fimkagi</td>\n",
              "      <td>LDJ</td>\n",
              "      <td>100.000000</td>\n",
              "      <td>0</td>\n",
              "    </tr>\n",
              "    <tr>\n",
              "      <th>8</th>\n",
              "      <td>Nami As Safinah</td>\n",
              "      <td>LDJ</td>\n",
              "      <td>157.692308</td>\n",
              "      <td>1</td>\n",
              "    </tr>\n",
              "    <tr>\n",
              "      <th>9</th>\n",
              "      <td>Hayatun Nufus</td>\n",
              "      <td>LDJ</td>\n",
              "      <td>185.148515</td>\n",
              "      <td>0</td>\n",
              "    </tr>\n",
              "    <tr>\n",
              "      <th>10</th>\n",
              "      <td>Kesima</td>\n",
              "      <td>LDJ</td>\n",
              "      <td>88.571429</td>\n",
              "      <td>0</td>\n",
              "    </tr>\n",
              "    <tr>\n",
              "      <th>11</th>\n",
              "      <td>Asy Syifa</td>\n",
              "      <td>LDJ</td>\n",
              "      <td>100.000000</td>\n",
              "      <td>0</td>\n",
              "    </tr>\n",
              "    <tr>\n",
              "      <th>12</th>\n",
              "      <td>Nuansa</td>\n",
              "      <td>LDJ</td>\n",
              "      <td>103.378378</td>\n",
              "      <td>0</td>\n",
              "    </tr>\n",
              "    <tr>\n",
              "      <th>13</th>\n",
              "      <td>Al Fikri</td>\n",
              "      <td>LDJ</td>\n",
              "      <td>152.941176</td>\n",
              "      <td>0</td>\n",
              "    </tr>\n",
              "  </tbody>\n",
              "</table>\n",
              "</div>\n",
              "      <button class=\"colab-df-convert\" onclick=\"convertToInteractive('df-20c36b29-1050-4096-855d-b6e7fa527240')\"\n",
              "              title=\"Convert this dataframe to an interactive table.\"\n",
              "              style=\"display:none;\">\n",
              "        \n",
              "  <svg xmlns=\"http://www.w3.org/2000/svg\" height=\"24px\"viewBox=\"0 0 24 24\"\n",
              "       width=\"24px\">\n",
              "    <path d=\"M0 0h24v24H0V0z\" fill=\"none\"/>\n",
              "    <path d=\"M18.56 5.44l.94 2.06.94-2.06 2.06-.94-2.06-.94-.94-2.06-.94 2.06-2.06.94zm-11 1L8.5 8.5l.94-2.06 2.06-.94-2.06-.94L8.5 2.5l-.94 2.06-2.06.94zm10 10l.94 2.06.94-2.06 2.06-.94-2.06-.94-.94-2.06-.94 2.06-2.06.94z\"/><path d=\"M17.41 7.96l-1.37-1.37c-.4-.4-.92-.59-1.43-.59-.52 0-1.04.2-1.43.59L10.3 9.45l-7.72 7.72c-.78.78-.78 2.05 0 2.83L4 21.41c.39.39.9.59 1.41.59.51 0 1.02-.2 1.41-.59l7.78-7.78 2.81-2.81c.8-.78.8-2.07 0-2.86zM5.41 20L4 18.59l7.72-7.72 1.47 1.35L5.41 20z\"/>\n",
              "  </svg>\n",
              "      </button>\n",
              "      \n",
              "  <style>\n",
              "    .colab-df-container {\n",
              "      display:flex;\n",
              "      flex-wrap:wrap;\n",
              "      gap: 12px;\n",
              "    }\n",
              "\n",
              "    .colab-df-convert {\n",
              "      background-color: #E8F0FE;\n",
              "      border: none;\n",
              "      border-radius: 50%;\n",
              "      cursor: pointer;\n",
              "      display: none;\n",
              "      fill: #1967D2;\n",
              "      height: 32px;\n",
              "      padding: 0 0 0 0;\n",
              "      width: 32px;\n",
              "    }\n",
              "\n",
              "    .colab-df-convert:hover {\n",
              "      background-color: #E2EBFA;\n",
              "      box-shadow: 0px 1px 2px rgba(60, 64, 67, 0.3), 0px 1px 3px 1px rgba(60, 64, 67, 0.15);\n",
              "      fill: #174EA6;\n",
              "    }\n",
              "\n",
              "    [theme=dark] .colab-df-convert {\n",
              "      background-color: #3B4455;\n",
              "      fill: #D2E3FC;\n",
              "    }\n",
              "\n",
              "    [theme=dark] .colab-df-convert:hover {\n",
              "      background-color: #434B5C;\n",
              "      box-shadow: 0px 1px 3px 1px rgba(0, 0, 0, 0.15);\n",
              "      filter: drop-shadow(0px 1px 2px rgba(0, 0, 0, 0.3));\n",
              "      fill: #FFFFFF;\n",
              "    }\n",
              "  </style>\n",
              "\n",
              "      <script>\n",
              "        const buttonEl =\n",
              "          document.querySelector('#df-20c36b29-1050-4096-855d-b6e7fa527240 button.colab-df-convert');\n",
              "        buttonEl.style.display =\n",
              "          google.colab.kernel.accessAllowed ? 'block' : 'none';\n",
              "\n",
              "        async function convertToInteractive(key) {\n",
              "          const element = document.querySelector('#df-20c36b29-1050-4096-855d-b6e7fa527240');\n",
              "          const dataTable =\n",
              "            await google.colab.kernel.invokeFunction('convertToInteractive',\n",
              "                                                     [key], {});\n",
              "          if (!dataTable) return;\n",
              "\n",
              "          const docLinkHtml = 'Like what you see? Visit the ' +\n",
              "            '<a target=\"_blank\" href=https://colab.research.google.com/notebooks/data_table.ipynb>data table notebook</a>'\n",
              "            + ' to learn more about interactive tables.';\n",
              "          element.innerHTML = '';\n",
              "          dataTable['output_type'] = 'display_data';\n",
              "          await google.colab.output.renderOutput(dataTable, element);\n",
              "          const docLink = document.createElement('div');\n",
              "          docLink.innerHTML = docLinkHtml;\n",
              "          element.appendChild(docLink);\n",
              "        }\n",
              "      </script>\n",
              "    </div>\n",
              "  </div>\n",
              "  "
            ]
          },
          "metadata": {},
          "execution_count": 30
        }
      ]
    },
    {
      "cell_type": "markdown",
      "source": [
        "### **Modelling & Evaluation : Logistic Regression Test**\n",
        "\n",
        "The second model I used in this project is Logistic Regression Test. The aim of this model is to find the most important features in determining the clusters so that the result itself could be considered by those organizations who want to held the Islamic event.\n",
        "\n",
        "The reason why I used this model is because it is one of the simplest way in identifying the most important features. Besides, the dependent variable that used in this case is a dummy (categorical) variable as the result of clustering."
      ],
      "metadata": {
        "id": "p5t0KbfgYMB0"
      }
    },
    {
      "cell_type": "code",
      "source": [
        "from sklearn.linear_model import LogisticRegression\n",
        "from sklearn.preprocessing import StandardScaler\n",
        "from sklearn.model_selection import train_test_split\n",
        "\n",
        "X = df.drop(columns=['Nama', 'Ket', 'Jml_Muslim_21', 'Jml_Peserta_21', 'labels2'])\n",
        "y = df['labels2']\n",
        "X_train, X_test, y_train, y_test = train_test_split(X, y, test_size=0.2, random_state=42)\n",
        "\n",
        "ss = StandardScaler()\n",
        "X_train_scaled = ss.fit_transform(X_train)\n",
        "X_test_scaled = ss.transform(X_test)\n",
        "\n",
        "model = LogisticRegression()\n",
        "model.fit(X_train_scaled, y_train)\n",
        "importances = pd.DataFrame(data={\n",
        "    'Attribute': X_train.columns,\n",
        "    'Importance': model.coef_[0]\n",
        "})\n",
        "importances = importances.sort_values(by='Importance', ascending=False)\n",
        "\n",
        "# Plotting the result\n",
        "fig = plt.figure(figsize=(8,8))\n",
        "plt.bar(x=importances['Attribute'], height=importances['Importance'], color='#087E8B')\n",
        "plt.xticks(rotation='vertical')\n",
        "plt.show()"
      ],
      "metadata": {
        "colab": {
          "base_uri": "https://localhost:8080/",
          "height": 647
        },
        "id": "8Mal6pxbYVaP",
        "outputId": "33da4f56-8f24-4ec2-b49b-5884c575c103"
      },
      "execution_count": 51,
      "outputs": [
        {
          "output_type": "display_data",
          "data": {
            "text/plain": [
              "<Figure size 576x576 with 1 Axes>"
            ],
            "image/png": "[encoded data removed]"
          },
          "metadata": {}
        }
      ]
    },
    {
      "cell_type": "markdown",
      "source": [
        "### **Conclusion**\n",
        "\n",
        "1.   From the first model in clustering result, it can be seen that cluster 0 has a greater mean comparison score between cluster 1. In this case, the greater the score is, the more effective the event would be. There are 9 organizations that classified to cluster 0.\n",
        "2.   From the second model in Logistic Regression test result, Tempat (the place that used to held the event) is the most important feature in determining the clusters, followed by Braning_Tujuan_Manfaat and Perbandingan.\n",
        "\n"
      ],
      "metadata": {
        "id": "x5zgOTySbAY1"
      }
    }
  ]
}