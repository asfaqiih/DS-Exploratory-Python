{
  "nbformat": 4,
  "nbformat_minor": 0,
  "metadata": {
    "colab": {
      "name": "Cookie Cats Analysis : A/B Testing",
      "provenance": [],
      "collapsed_sections": []
    },
    "kernelspec": {
      "name": "python3",
      "display_name": "Python 3"
    },
    "language_info": {
      "name": "python"
    }
  },
  "cells": [
    {
      "cell_type": "markdown",
      "source": [
        "**Cookie Cats Analysis**\n",
        "\n",
        "This is an analysis project about A/B Testing on a game application called Cookie Cats. This game is available on every smartphone and everyone can play with it. This game application is one of simple games out there who has different levels with different stages. The player has to finish the previous gate before moving up to another level and gate.\n",
        "\n",
        "The aim of this project is to find a comparison decision between 2 options related to the location of the gate in these available levels, either in level 30 or in level 40. A/B testing is used here to find that comparison. inside of this project, I used Chi-Square test, KDE in histogram, normality test, Bootstrap, and Mann-Whitney U test."
      ],
      "metadata": {
        "id": "XKM9OGyUuUDZ"
      }
    },
    {
      "cell_type": "code",
      "execution_count": null,
      "metadata": {
        "id": "-OCuUbdntOMZ"
      },
      "outputs": [],
      "source": [
        "import pandas as pd\n",
        "import numpy as np\n",
        "import seaborn as sns\n",
        "import matplotlib.pyplot as plt\n",
        "\n",
        "import statsmodels.api as sm\n",
        "from scipy.stats import shapiro\n",
        "from scipy.stats import chisquare\n",
        "from scipy.stats import mannwhitneyu\n",
        "from scipy.stats import chi2_contingency\n",
        "\n",
        "import warnings\n",
        "warnings.filterwarnings(\"ignore\")\n",
        "\n",
        "pd.options.mode.chained_assignment = None"
      ]
    },
    {
      "cell_type": "markdown",
      "source": [
        "### **Data Understanding**"
      ],
      "metadata": {
        "id": "jnxWPJvxr4ua"
      }
    },
    {
      "cell_type": "code",
      "source": [
        "df = pd.read_csv('/content/cookie_cats.csv', sep=',')"
      ],
      "metadata": {
        "id": "sY0E5d_ywHfz"
      },
      "execution_count": null,
      "outputs": []
    },
    {
      "cell_type": "code",
      "source": [
        "df.info()"
      ],
      "metadata": {
        "colab": {
          "base_uri": "https://localhost:8080/"
        },
        "id": "qH7Yc3PWR-Nt",
        "outputId": "8c5f204f-5960-4007-a1d3-7518e925ef49"
      },
      "execution_count": null,
      "outputs": [
        {
          "output_type": "stream",
          "name": "stdout",
          "text": [
            "<class 'pandas.core.frame.DataFrame'>\n",
            "RangeIndex: 90189 entries, 0 to 90188\n",
            "Data columns (total 5 columns):\n",
            " #   Column          Non-Null Count  Dtype \n",
            "---  ------          --------------  ----- \n",
            " 0   userid          90189 non-null  int64 \n",
            " 1   version         90189 non-null  object\n",
            " 2   sum_gamerounds  90189 non-null  int64 \n",
            " 3   retention_1     90189 non-null  bool  \n",
            " 4   retention_7     90189 non-null  bool  \n",
            "dtypes: bool(2), int64(2), object(1)\n",
            "memory usage: 2.2+ MB\n"
          ]
        }
      ]
    },
    {
      "cell_type": "markdown",
      "source": [
        "### **Data Preparation**"
      ],
      "metadata": {
        "id": "hBM3yVIesAS5"
      }
    },
    {
      "cell_type": "code",
      "source": [
        "# Check for duplicate userid\n",
        "df.duplicated(subset=['userid']).any()"
      ],
      "metadata": {
        "colab": {
          "base_uri": "https://localhost:8080/"
        },
        "id": "OKBq4iAmrsjl",
        "outputId": "fbb95546-6e77-448d-da82-8b8cc592f39d"
      },
      "execution_count": null,
      "outputs": [
        {
          "output_type": "execute_result",
          "data": {
            "text/plain": [
              "False"
            ]
          },
          "metadata": {},
          "execution_count": 18
        }
      ]
    },
    {
      "cell_type": "code",
      "source": [
        "# Drop userid column as it is meaningless for this study\n",
        "df.drop(columns=[\"userid\"], inplace=True)\n",
        "\n",
        "# Edit the version column\n",
        "df.rename(columns={\"version\": \"group\"}, inplace=True)\n",
        "df[\"group\"] = np.where(df.group == \"gate_30\", \"A\", \"B\")\n",
        "df.loc[:, \"group\"] = df.group.astype(\"category\")\n",
        "\n",
        "# Looks more organized now\n",
        "df.head()"
      ],
      "metadata": {
        "colab": {
          "base_uri": "https://localhost:8080/",
          "height": 206
        },
        "id": "bfkIyc7OwNhe",
        "outputId": "6048580d-cc1f-4f90-e1c3-fc6819bc9172"
      },
      "execution_count": null,
      "outputs": [
        {
          "output_type": "execute_result",
          "data": {
            "text/plain": [
              "  group  sum_gamerounds  retention_1  retention_7\n",
              "0     A               3        False        False\n",
              "1     A              38         True        False\n",
              "2     B             165         True        False\n",
              "3     B               1        False        False\n",
              "4     B             179         True         True"
            ],
            "text/html": [
              "\n",
              "  <div id=\"df-5d098965-bfbf-4c0c-bf7c-8459e9ea150b\">\n",
              "    <div class=\"colab-df-container\">\n",
              "      <div>\n",
              "<style scoped>\n",
              "    .dataframe tbody tr th:only-of-type {\n",
              "        vertical-align: middle;\n",
              "    }\n",
              "\n",
              "    .dataframe tbody tr th {\n",
              "        vertical-align: top;\n",
              "    }\n",
              "\n",
              "    .dataframe thead th {\n",
              "        text-align: right;\n",
              "    }\n",
              "</style>\n",
              "<table border=\"1\" class=\"dataframe\">\n",
              "  <thead>\n",
              "    <tr style=\"text-align: right;\">\n",
              "      <th></th>\n",
              "      <th>group</th>\n",
              "      <th>sum_gamerounds</th>\n",
              "      <th>retention_1</th>\n",
              "      <th>retention_7</th>\n",
              "    </tr>\n",
              "  </thead>\n",
              "  <tbody>\n",
              "    <tr>\n",
              "      <th>0</th>\n",
              "      <td>A</td>\n",
              "      <td>3</td>\n",
              "      <td>False</td>\n",
              "      <td>False</td>\n",
              "    </tr>\n",
              "    <tr>\n",
              "      <th>1</th>\n",
              "      <td>A</td>\n",
              "      <td>38</td>\n",
              "      <td>True</td>\n",
              "      <td>False</td>\n",
              "    </tr>\n",
              "    <tr>\n",
              "      <th>2</th>\n",
              "      <td>B</td>\n",
              "      <td>165</td>\n",
              "      <td>True</td>\n",
              "      <td>False</td>\n",
              "    </tr>\n",
              "    <tr>\n",
              "      <th>3</th>\n",
              "      <td>B</td>\n",
              "      <td>1</td>\n",
              "      <td>False</td>\n",
              "      <td>False</td>\n",
              "    </tr>\n",
              "    <tr>\n",
              "      <th>4</th>\n",
              "      <td>B</td>\n",
              "      <td>179</td>\n",
              "      <td>True</td>\n",
              "      <td>True</td>\n",
              "    </tr>\n",
              "  </tbody>\n",
              "</table>\n",
              "</div>\n",
              "      <button class=\"colab-df-convert\" onclick=\"convertToInteractive('df-5d098965-bfbf-4c0c-bf7c-8459e9ea150b')\"\n",
              "              title=\"Convert this dataframe to an interactive table.\"\n",
              "              style=\"display:none;\">\n",
              "        \n",
              "  <svg xmlns=\"http://www.w3.org/2000/svg\" height=\"24px\"viewBox=\"0 0 24 24\"\n",
              "       width=\"24px\">\n",
              "    <path d=\"M0 0h24v24H0V0z\" fill=\"none\"/>\n",
              "    <path d=\"M18.56 5.44l.94 2.06.94-2.06 2.06-.94-2.06-.94-.94-2.06-.94 2.06-2.06.94zm-11 1L8.5 8.5l.94-2.06 2.06-.94-2.06-.94L8.5 2.5l-.94 2.06-2.06.94zm10 10l.94 2.06.94-2.06 2.06-.94-2.06-.94-.94-2.06-.94 2.06-2.06.94z\"/><path d=\"M17.41 7.96l-1.37-1.37c-.4-.4-.92-.59-1.43-.59-.52 0-1.04.2-1.43.59L10.3 9.45l-7.72 7.72c-.78.78-.78 2.05 0 2.83L4 21.41c.39.39.9.59 1.41.59.51 0 1.02-.2 1.41-.59l7.78-7.78 2.81-2.81c.8-.78.8-2.07 0-2.86zM5.41 20L4 18.59l7.72-7.72 1.47 1.35L5.41 20z\"/>\n",
              "  </svg>\n",
              "      </button>\n",
              "      \n",
              "  <style>\n",
              "    .colab-df-container {\n",
              "      display:flex;\n",
              "      flex-wrap:wrap;\n",
              "      gap: 12px;\n",
              "    }\n",
              "\n",
              "    .colab-df-convert {\n",
              "      background-color: #E8F0FE;\n",
              "      border: none;\n",
              "      border-radius: 50%;\n",
              "      cursor: pointer;\n",
              "      display: none;\n",
              "      fill: #1967D2;\n",
              "      height: 32px;\n",
              "      padding: 0 0 0 0;\n",
              "      width: 32px;\n",
              "    }\n",
              "\n",
              "    .colab-df-convert:hover {\n",
              "      background-color: #E2EBFA;\n",
              "      box-shadow: 0px 1px 2px rgba(60, 64, 67, 0.3), 0px 1px 3px 1px rgba(60, 64, 67, 0.15);\n",
              "      fill: #174EA6;\n",
              "    }\n",
              "\n",
              "    [theme=dark] .colab-df-convert {\n",
              "      background-color: #3B4455;\n",
              "      fill: #D2E3FC;\n",
              "    }\n",
              "\n",
              "    [theme=dark] .colab-df-convert:hover {\n",
              "      background-color: #434B5C;\n",
              "      box-shadow: 0px 1px 3px 1px rgba(0, 0, 0, 0.15);\n",
              "      filter: drop-shadow(0px 1px 2px rgba(0, 0, 0, 0.3));\n",
              "      fill: #FFFFFF;\n",
              "    }\n",
              "  </style>\n",
              "\n",
              "      <script>\n",
              "        const buttonEl =\n",
              "          document.querySelector('#df-5d098965-bfbf-4c0c-bf7c-8459e9ea150b button.colab-df-convert');\n",
              "        buttonEl.style.display =\n",
              "          google.colab.kernel.accessAllowed ? 'block' : 'none';\n",
              "\n",
              "        async function convertToInteractive(key) {\n",
              "          const element = document.querySelector('#df-5d098965-bfbf-4c0c-bf7c-8459e9ea150b');\n",
              "          const dataTable =\n",
              "            await google.colab.kernel.invokeFunction('convertToInteractive',\n",
              "                                                     [key], {});\n",
              "          if (!dataTable) return;\n",
              "\n",
              "          const docLinkHtml = 'Like what you see? Visit the ' +\n",
              "            '<a target=\"_blank\" href=https://colab.research.google.com/notebooks/data_table.ipynb>data table notebook</a>'\n",
              "            + ' to learn more about interactive tables.';\n",
              "          element.innerHTML = '';\n",
              "          dataTable['output_type'] = 'display_data';\n",
              "          await google.colab.output.renderOutput(dataTable, element);\n",
              "          const docLink = document.createElement('div');\n",
              "          docLink.innerHTML = docLinkHtml;\n",
              "          element.appendChild(docLink);\n",
              "        }\n",
              "      </script>\n",
              "    </div>\n",
              "  </div>\n",
              "  "
            ]
          },
          "metadata": {},
          "execution_count": 19
        }
      ]
    },
    {
      "cell_type": "markdown",
      "source": [
        "### **Exploratory Data Analysis**"
      ],
      "metadata": {
        "id": "NwDyKAVqsGxY"
      }
    },
    {
      "cell_type": "code",
      "source": [
        "# Total number of games distribution in log-scale\n",
        "sns.set(rc={'figure.figsize':(18,3)})\n",
        "ax=sns.boxplot(y = df.group, x = df.sum_gamerounds, orient=\"h\")\n",
        "ax.set_xscale('log')\n",
        "plt.title(\"Total Gamerounds by Group\", fontweight=\"bold\")\n",
        "plt.xlabel(\"Total Gamerounds in Logarithmic Scale\")\n",
        "plt.ylabel(\"Group\")\n",
        "plt.show()"
      ],
      "metadata": {
        "colab": {
          "base_uri": "https://localhost:8080/",
          "height": 157
        },
        "id": "Mkq68AnRUXNO",
        "outputId": "643d4395-2696-4751-b2f3-b9eadb66d6cb"
      },
      "execution_count": null,
      "outputs": [
        {
          "output_type": "display_data",
          "data": {
            "text/plain": [
              "<Figure size 1296x216 with 1 Axes>"
            ],
            "image/png": "[encoded data removed]"
          },
          "metadata": {}
        }
      ]
    },
    {
      "cell_type": "code",
      "source": [
        "# Observe the outliers\n",
        "df.sum_gamerounds.sort_values(ascending=False).head()"
      ],
      "metadata": {
        "colab": {
          "base_uri": "https://localhost:8080/"
        },
        "id": "pzuvVD0H0cTj",
        "outputId": "1e44b9a6-8ac2-47ce-c022-6ba5be409a38"
      },
      "execution_count": null,
      "outputs": [
        {
          "output_type": "execute_result",
          "data": {
            "text/plain": [
              "57702    49854\n",
              "7912      2961\n",
              "29417     2640\n",
              "43671     2438\n",
              "48188     2294\n",
              "Name: sum_gamerounds, dtype: int64"
            ]
          },
          "metadata": {},
          "execution_count": 22
        }
      ]
    },
    {
      "cell_type": "code",
      "source": [
        "# Delete Outlier\n",
        "df = df[df[\"sum_gamerounds\"] < 3000].reset_index()"
      ],
      "metadata": {
        "id": "2xbgbd0wFshw"
      },
      "execution_count": null,
      "outputs": []
    },
    {
      "cell_type": "code",
      "source": [
        "# Check sum_gamerounds\n",
        "df.sum_gamerounds.value_counts().head()"
      ],
      "metadata": {
        "colab": {
          "base_uri": "https://localhost:8080/"
        },
        "id": "oqjahOXsF453",
        "outputId": "c5e7368a-9448-4a6f-c8f1-39dd7457cafa"
      },
      "execution_count": null,
      "outputs": [
        {
          "output_type": "execute_result",
          "data": {
            "text/plain": [
              "1    5538\n",
              "2    4606\n",
              "0    3994\n",
              "3    3958\n",
              "4    3629\n",
              "Name: sum_gamerounds, dtype: int64"
            ]
          },
          "metadata": {},
          "execution_count": 24
        }
      ]
    },
    {
      "cell_type": "code",
      "source": [
        "# Those who never played games probably had no effect on the experiment\n",
        "# Delete them as it will corrupt the statistics of the data\n",
        "df = df[df.sum_gamerounds != 0].reset_index()"
      ],
      "metadata": {
        "id": "04gJhAMkGI_H"
      },
      "execution_count": null,
      "outputs": []
    },
    {
      "cell_type": "code",
      "source": [
        "# Describe the dataset\n",
        "df['sum_gamerounds'].describe([0.95, 0.99])"
      ],
      "metadata": {
        "colab": {
          "base_uri": "https://localhost:8080/"
        },
        "id": "UV1_-YCcGYZn",
        "outputId": "60482d05-eb97-40d2-e350-e011655bd5d5"
      },
      "execution_count": null,
      "outputs": [
        {
          "output_type": "execute_result",
          "data": {
            "text/plain": [
              "count    86194.000000\n",
              "mean        53.698297\n",
              "std        104.425174\n",
              "min          1.000000\n",
              "50%         18.000000\n",
              "95%        227.000000\n",
              "99%        499.000000\n",
              "max       2961.000000\n",
              "Name: sum_gamerounds, dtype: float64"
            ]
          },
          "metadata": {},
          "execution_count": 28
        }
      ]
    },
    {
      "cell_type": "code",
      "source": [
        "# 95% of players have played 22 times or less. Draw them\n",
        "sns.set(rc={'figure.figsize':(18,10)})\n",
        "sns.histplot(data=df[df.sum_gamerounds<228], x=\"sum_gamerounds\", kde=True,\n",
        "             hue=\"group\", line_kws={\"lw\":3}, bins=100)\n",
        "plt.title(\"The Distribution of players\", fontweight=\"bold\")\n",
        "plt.xlabel(\"Total Gamerounds\")\n",
        "plt.ylabel(\"Number of Player\")\n",
        "plt.show()"
      ],
      "metadata": {
        "colab": {
          "base_uri": "https://localhost:8080/",
          "height": 374
        },
        "id": "9MhLPn3gGpSM",
        "outputId": "8b158949-99cc-42a6-fb46-4069b25068ac"
      },
      "execution_count": null,
      "outputs": [
        {
          "output_type": "display_data",
          "data": {
            "text/plain": [
              "<Figure size 1296x720 with 1 Axes>"
            ],
            "image/png": "[encoded data removed]"
          },
          "metadata": {}
        }
      ]
    },
    {
      "cell_type": "code",
      "source": [
        "# Function to check Sample Ratio Mismatch\n",
        "def SRMcheck(df):\n",
        "  num_A = df[\"group\"].value_counts().loc[\"A\"]\n",
        "  num_B = df[\"group\"].value_counts().loc[\"B\"]\n",
        "\n",
        "  print(\"Number of players in group A (gate_30):\",num_A)\n",
        "  print(\"Number of players in group B (gate_40):\",num_B)\n",
        "  print(\"A/B ratio: {:.5f}\".format(num_A/num_B))\n",
        "  print(\"-\"*45)\n",
        "    \n",
        "  observed = [ num_A, num_B ]\n",
        "  total_player= sum(observed)\n",
        "  expected = [ total_player/2, total_player/2 ]\n",
        "\n",
        "  chi = chisquare(observed, f_exp=expected)\n",
        "  print(\"pvalue: {:.3f}\".format(chi[1]))\n",
        "  print(\"*\"*15)\n",
        "  if chi[1] < 0.01:\n",
        "      print('SRM may be present.')\n",
        "  else:\n",
        "      print('Probably no SRM.')"
      ],
      "metadata": {
        "id": "SLOYs2P3HlE1"
      },
      "execution_count": null,
      "outputs": []
    },
    {
      "cell_type": "code",
      "source": [
        "# Check SRM\n",
        "SRMcheck(df)"
      ],
      "metadata": {
        "colab": {
          "base_uri": "https://localhost:8080/"
        },
        "id": "lUOXa6ZbIOid",
        "outputId": "42194140-7282-4d8d-9ce2-ff411f0a3d94"
      },
      "execution_count": null,
      "outputs": [
        {
          "output_type": "stream",
          "name": "stdout",
          "text": [
            "Number of players in group A (gate_30): 42762\n",
            "Number of players in group B (gate_40): 43432\n",
            "A/B ratio: 0.98457\n",
            "---------------------------------------------\n",
            "pvalue: 0.022\n",
            "***************\n",
            "Probably no SRM.\n"
          ]
        }
      ]
    },
    {
      "cell_type": "markdown",
      "source": [
        "### **Modelling & Evaluation : A/B Testing for Game Rounds**"
      ],
      "metadata": {
        "id": "yCU10X2wIWoq"
      }
    },
    {
      "cell_type": "code",
      "source": [
        "# Describe sum_gamerounds\n",
        "df.groupby(\"group\").sum_gamerounds.agg([\"sum\", \"mean\", \"median\"])"
      ],
      "metadata": {
        "colab": {
          "base_uri": "https://localhost:8080/",
          "height": 143
        },
        "id": "7Z1Fc_crIkB2",
        "outputId": "c6922a97-d2c4-480c-f9b1-ffb668a1ccdc"
      },
      "execution_count": null,
      "outputs": [
        {
          "output_type": "execute_result",
          "data": {
            "text/plain": [
              "           sum       mean  median\n",
              "group                            \n",
              "A      2294941  53.667766    18.0\n",
              "B      2333530  53.728357    18.0"
            ],
            "text/html": [
              "\n",
              "  <div id=\"df-91f6112e-1b9e-4d95-a969-91f99f24b524\">\n",
              "    <div class=\"colab-df-container\">\n",
              "      <div>\n",
              "<style scoped>\n",
              "    .dataframe tbody tr th:only-of-type {\n",
              "        vertical-align: middle;\n",
              "    }\n",
              "\n",
              "    .dataframe tbody tr th {\n",
              "        vertical-align: top;\n",
              "    }\n",
              "\n",
              "    .dataframe thead th {\n",
              "        text-align: right;\n",
              "    }\n",
              "</style>\n",
              "<table border=\"1\" class=\"dataframe\">\n",
              "  <thead>\n",
              "    <tr style=\"text-align: right;\">\n",
              "      <th></th>\n",
              "      <th>sum</th>\n",
              "      <th>mean</th>\n",
              "      <th>median</th>\n",
              "    </tr>\n",
              "    <tr>\n",
              "      <th>group</th>\n",
              "      <th></th>\n",
              "      <th></th>\n",
              "      <th></th>\n",
              "    </tr>\n",
              "  </thead>\n",
              "  <tbody>\n",
              "    <tr>\n",
              "      <th>A</th>\n",
              "      <td>2294941</td>\n",
              "      <td>53.667766</td>\n",
              "      <td>18.0</td>\n",
              "    </tr>\n",
              "    <tr>\n",
              "      <th>B</th>\n",
              "      <td>2333530</td>\n",
              "      <td>53.728357</td>\n",
              "      <td>18.0</td>\n",
              "    </tr>\n",
              "  </tbody>\n",
              "</table>\n",
              "</div>\n",
              "      <button class=\"colab-df-convert\" onclick=\"convertToInteractive('df-91f6112e-1b9e-4d95-a969-91f99f24b524')\"\n",
              "              title=\"Convert this dataframe to an interactive table.\"\n",
              "              style=\"display:none;\">\n",
              "        \n",
              "  <svg xmlns=\"http://www.w3.org/2000/svg\" height=\"24px\"viewBox=\"0 0 24 24\"\n",
              "       width=\"24px\">\n",
              "    <path d=\"M0 0h24v24H0V0z\" fill=\"none\"/>\n",
              "    <path d=\"M18.56 5.44l.94 2.06.94-2.06 2.06-.94-2.06-.94-.94-2.06-.94 2.06-2.06.94zm-11 1L8.5 8.5l.94-2.06 2.06-.94-2.06-.94L8.5 2.5l-.94 2.06-2.06.94zm10 10l.94 2.06.94-2.06 2.06-.94-2.06-.94-.94-2.06-.94 2.06-2.06.94z\"/><path d=\"M17.41 7.96l-1.37-1.37c-.4-.4-.92-.59-1.43-.59-.52 0-1.04.2-1.43.59L10.3 9.45l-7.72 7.72c-.78.78-.78 2.05 0 2.83L4 21.41c.39.39.9.59 1.41.59.51 0 1.02-.2 1.41-.59l7.78-7.78 2.81-2.81c.8-.78.8-2.07 0-2.86zM5.41 20L4 18.59l7.72-7.72 1.47 1.35L5.41 20z\"/>\n",
              "  </svg>\n",
              "      </button>\n",
              "      \n",
              "  <style>\n",
              "    .colab-df-container {\n",
              "      display:flex;\n",
              "      flex-wrap:wrap;\n",
              "      gap: 12px;\n",
              "    }\n",
              "\n",
              "    .colab-df-convert {\n",
              "      background-color: #E8F0FE;\n",
              "      border: none;\n",
              "      border-radius: 50%;\n",
              "      cursor: pointer;\n",
              "      display: none;\n",
              "      fill: #1967D2;\n",
              "      height: 32px;\n",
              "      padding: 0 0 0 0;\n",
              "      width: 32px;\n",
              "    }\n",
              "\n",
              "    .colab-df-convert:hover {\n",
              "      background-color: #E2EBFA;\n",
              "      box-shadow: 0px 1px 2px rgba(60, 64, 67, 0.3), 0px 1px 3px 1px rgba(60, 64, 67, 0.15);\n",
              "      fill: #174EA6;\n",
              "    }\n",
              "\n",
              "    [theme=dark] .colab-df-convert {\n",
              "      background-color: #3B4455;\n",
              "      fill: #D2E3FC;\n",
              "    }\n",
              "\n",
              "    [theme=dark] .colab-df-convert:hover {\n",
              "      background-color: #434B5C;\n",
              "      box-shadow: 0px 1px 3px 1px rgba(0, 0, 0, 0.15);\n",
              "      filter: drop-shadow(0px 1px 2px rgba(0, 0, 0, 0.3));\n",
              "      fill: #FFFFFF;\n",
              "    }\n",
              "  </style>\n",
              "\n",
              "      <script>\n",
              "        const buttonEl =\n",
              "          document.querySelector('#df-91f6112e-1b9e-4d95-a969-91f99f24b524 button.colab-df-convert');\n",
              "        buttonEl.style.display =\n",
              "          google.colab.kernel.accessAllowed ? 'block' : 'none';\n",
              "\n",
              "        async function convertToInteractive(key) {\n",
              "          const element = document.querySelector('#df-91f6112e-1b9e-4d95-a969-91f99f24b524');\n",
              "          const dataTable =\n",
              "            await google.colab.kernel.invokeFunction('convertToInteractive',\n",
              "                                                     [key], {});\n",
              "          if (!dataTable) return;\n",
              "\n",
              "          const docLinkHtml = 'Like what you see? Visit the ' +\n",
              "            '<a target=\"_blank\" href=https://colab.research.google.com/notebooks/data_table.ipynb>data table notebook</a>'\n",
              "            + ' to learn more about interactive tables.';\n",
              "          element.innerHTML = '';\n",
              "          dataTable['output_type'] = 'display_data';\n",
              "          await google.colab.output.renderOutput(dataTable, element);\n",
              "          const docLink = document.createElement('div');\n",
              "          docLink.innerHTML = docLinkHtml;\n",
              "          element.appendChild(docLink);\n",
              "        }\n",
              "      </script>\n",
              "    </div>\n",
              "  </div>\n",
              "  "
            ]
          },
          "metadata": {},
          "execution_count": 34
        }
      ]
    },
    {
      "cell_type": "code",
      "source": [
        "# Check gamerounds difference\n",
        "\n",
        "sum_difference= round(100*(df.query(\"group=='B'\").sum_gamerounds.sum() - df.query(\"group=='A'\").sum_gamerounds.sum()) \n",
        "      / df.query(\"group=='A'\").sum_gamerounds.sum(), 2)\n",
        "print(\"Group B played a total of {}% more games than group A\".format(sum_difference))"
      ],
      "metadata": {
        "colab": {
          "base_uri": "https://localhost:8080/"
        },
        "id": "tV-QI-9xIz4r",
        "outputId": "beb152d1-1825-4b04-ad7f-476b3da2939f"
      },
      "execution_count": null,
      "outputs": [
        {
          "output_type": "stream",
          "name": "stdout",
          "text": [
            "Group B played a total of 1.68% more games than group A\n"
          ]
        }
      ]
    },
    {
      "cell_type": "markdown",
      "source": [
        "**Data Distribution**"
      ],
      "metadata": {
        "id": "3KnpMz_5I4-E"
      }
    },
    {
      "cell_type": "code",
      "source": [
        "# Function to check normality (Q-Q plot and Shapiro–Wilk test)\n",
        "\n",
        "def checkNormality(df):\n",
        "    sns.set(rc={'figure.figsize':(5,5)})\n",
        "    sm.qqplot(df, line='45', fit=True)\n",
        "    plt.show()\n",
        "\n",
        "    _ , p= shapiro(df)\n",
        "    alpha = 0.05\n",
        "    print(f\"p={p}\")\n",
        "    if p > alpha:\n",
        "        print('Sample a normal distribution')\n",
        "    else:\n",
        "        print('Sample is not a normal distribution')"
      ],
      "metadata": {
        "id": "X6LTluv7I7x4"
      },
      "execution_count": null,
      "outputs": []
    },
    {
      "cell_type": "code",
      "source": [
        "# Check normality for sum_gamerounds\n",
        "\n",
        "checkNormality(df.sum_gamerounds)"
      ],
      "metadata": {
        "colab": {
          "base_uri": "https://localhost:8080/",
          "height": 373
        },
        "id": "gP8vjgpxJABv",
        "outputId": "87007d18-d2f5-4431-c6f0-721c8cd5ae8a"
      },
      "execution_count": null,
      "outputs": [
        {
          "output_type": "display_data",
          "data": {
            "text/plain": [
              "<Figure size 360x360 with 1 Axes>"
            ],
            "image/png": "[encoded data removed]"
          },
          "metadata": {}
        },
        {
          "output_type": "stream",
          "name": "stdout",
          "text": [
            "p=0.0\n",
            "Sample is not a normal distribution\n"
          ]
        }
      ]
    },
    {
      "cell_type": "markdown",
      "source": [
        "**Bootstrapping**"
      ],
      "metadata": {
        "id": "lKlRyNnnJFHG"
      }
    },
    {
      "cell_type": "code",
      "source": [
        "# Bootstraping - Create 2000 samples of dataset\n",
        "\n",
        "bootstrap_sum=pd.DataFrame([df.sample(frac=1, replace=True).groupby('group')['sum_gamerounds'].mean() for i in range(2000)])\n",
        "\n",
        "bootstrap_sum.plot.kde()\n",
        "sns.set(rc={'figure.figsize':(18,5)})\n",
        "plt.title(\"KDE Plot of the Gamerounds' bootstrap distributions\", fontweight=\"bold\")\n",
        "plt.xlabel(\"Game rounds\")\n",
        "plt.show()"
      ],
      "metadata": {
        "colab": {
          "base_uri": "https://localhost:8080/",
          "height": 354
        },
        "id": "3nKSbxTgJHUY",
        "outputId": "a1a11017-da61-41b0-c412-343bcc4d9984"
      },
      "execution_count": null,
      "outputs": [
        {
          "output_type": "display_data",
          "data": {
            "text/plain": [
              "<Figure size 360x360 with 1 Axes>"
            ],
            "image/png": "[encoded data removed]"
          },
          "metadata": {}
        }
      ]
    },
    {
      "cell_type": "markdown",
      "source": [
        "**H0 (Null hypothesis)** : Changing the gate level has no impact on sum_gamerounds\n",
        "\n",
        "**H1 (Alternative hypothesis)**: Changing the gate level has an impact on sum_gamerounds"
      ],
      "metadata": {
        "id": "nGDFj-NVJOPy"
      }
    },
    {
      "cell_type": "code",
      "source": [
        "# Function for Mann-Whitney U Test\n",
        "\n",
        "def mannwhitneyfunc(value1,value2):\n",
        "\n",
        "    stat, p=mannwhitneyu(sum_gamerounds1, sum_gamerounds2)\n",
        "\n",
        "    alpha=0.05 \n",
        "\n",
        "    print('p=%.4f , alpha=%.2f '%(p,alpha))\n",
        "    if p > alpha:\n",
        "        print('Two groups have no significant difference')\n",
        "    else:\n",
        "        print('Two groups have a significant difference')"
      ],
      "metadata": {
        "id": "EyaGAqp1JSlh"
      },
      "execution_count": null,
      "outputs": []
    },
    {
      "cell_type": "code",
      "source": [
        "#Mann-Whitney U Test for sum_gamerounds\n",
        "\n",
        "sum_gamerounds1 = df[df.group=='A'].sum_gamerounds\n",
        "sum_gamerounds2 = df[df.group=='B'].sum_gamerounds\n",
        "\n",
        "mannwhitneyfunc(sum_gamerounds1,sum_gamerounds2)"
      ],
      "metadata": {
        "colab": {
          "base_uri": "https://localhost:8080/"
        },
        "id": "0_vts7f7JhOh",
        "outputId": "2e377376-94d3-4dbe-f39e-e57d71a63fb4"
      },
      "execution_count": null,
      "outputs": [
        {
          "output_type": "stream",
          "name": "stdout",
          "text": [
            "p=0.0588 , alpha=0.05 \n",
            "Two groups have no significant difference\n"
          ]
        }
      ]
    },
    {
      "cell_type": "markdown",
      "source": [
        "### **Modelling & Evaluation : A/B Testing for Retention Rates**"
      ],
      "metadata": {
        "id": "EHm-JIgJJn9Z"
      }
    },
    {
      "cell_type": "markdown",
      "source": [
        "**H0 (Null hypothesis)** : Changing the gate level has no impact on retention rate\n",
        "\n",
        "**H1 (Alternative hypothesis)**: Changing the gate level has an impact on retention rate"
      ],
      "metadata": {
        "id": "2lYWhGXBJqN1"
      }
    },
    {
      "cell_type": "code",
      "source": [
        "# Retention rate by groups\n",
        "\n",
        "retention_rate = df.groupby(\"group\").agg({\"retention_1\":\"mean\",\"retention_7\":\"mean\"})\n",
        "retention_rate"
      ],
      "metadata": {
        "colab": {
          "base_uri": "https://localhost:8080/",
          "height": 143
        },
        "id": "VAglNZ42JuoI",
        "outputId": "30710b77-a5b0-407f-d12e-0f503a28a200"
      },
      "execution_count": null,
      "outputs": [
        {
          "output_type": "execute_result",
          "data": {
            "text/plain": [
              "       retention_1  retention_7\n",
              "group                          \n",
              "A         0.467541     0.198424\n",
              "B         0.462171     0.190321"
            ],
            "text/html": [
              "\n",
              "  <div id=\"df-ecaeeb63-1d38-40bf-87ce-a3126350dab4\">\n",
              "    <div class=\"colab-df-container\">\n",
              "      <div>\n",
              "<style scoped>\n",
              "    .dataframe tbody tr th:only-of-type {\n",
              "        vertical-align: middle;\n",
              "    }\n",
              "\n",
              "    .dataframe tbody tr th {\n",
              "        vertical-align: top;\n",
              "    }\n",
              "\n",
              "    .dataframe thead th {\n",
              "        text-align: right;\n",
              "    }\n",
              "</style>\n",
              "<table border=\"1\" class=\"dataframe\">\n",
              "  <thead>\n",
              "    <tr style=\"text-align: right;\">\n",
              "      <th></th>\n",
              "      <th>retention_1</th>\n",
              "      <th>retention_7</th>\n",
              "    </tr>\n",
              "    <tr>\n",
              "      <th>group</th>\n",
              "      <th></th>\n",
              "      <th></th>\n",
              "    </tr>\n",
              "  </thead>\n",
              "  <tbody>\n",
              "    <tr>\n",
              "      <th>A</th>\n",
              "      <td>0.467541</td>\n",
              "      <td>0.198424</td>\n",
              "    </tr>\n",
              "    <tr>\n",
              "      <th>B</th>\n",
              "      <td>0.462171</td>\n",
              "      <td>0.190321</td>\n",
              "    </tr>\n",
              "  </tbody>\n",
              "</table>\n",
              "</div>\n",
              "      <button class=\"colab-df-convert\" onclick=\"convertToInteractive('df-ecaeeb63-1d38-40bf-87ce-a3126350dab4')\"\n",
              "              title=\"Convert this dataframe to an interactive table.\"\n",
              "              style=\"display:none;\">\n",
              "        \n",
              "  <svg xmlns=\"http://www.w3.org/2000/svg\" height=\"24px\"viewBox=\"0 0 24 24\"\n",
              "       width=\"24px\">\n",
              "    <path d=\"M0 0h24v24H0V0z\" fill=\"none\"/>\n",
              "    <path d=\"M18.56 5.44l.94 2.06.94-2.06 2.06-.94-2.06-.94-.94-2.06-.94 2.06-2.06.94zm-11 1L8.5 8.5l.94-2.06 2.06-.94-2.06-.94L8.5 2.5l-.94 2.06-2.06.94zm10 10l.94 2.06.94-2.06 2.06-.94-2.06-.94-.94-2.06-.94 2.06-2.06.94z\"/><path d=\"M17.41 7.96l-1.37-1.37c-.4-.4-.92-.59-1.43-.59-.52 0-1.04.2-1.43.59L10.3 9.45l-7.72 7.72c-.78.78-.78 2.05 0 2.83L4 21.41c.39.39.9.59 1.41.59.51 0 1.02-.2 1.41-.59l7.78-7.78 2.81-2.81c.8-.78.8-2.07 0-2.86zM5.41 20L4 18.59l7.72-7.72 1.47 1.35L5.41 20z\"/>\n",
              "  </svg>\n",
              "      </button>\n",
              "      \n",
              "  <style>\n",
              "    .colab-df-container {\n",
              "      display:flex;\n",
              "      flex-wrap:wrap;\n",
              "      gap: 12px;\n",
              "    }\n",
              "\n",
              "    .colab-df-convert {\n",
              "      background-color: #E8F0FE;\n",
              "      border: none;\n",
              "      border-radius: 50%;\n",
              "      cursor: pointer;\n",
              "      display: none;\n",
              "      fill: #1967D2;\n",
              "      height: 32px;\n",
              "      padding: 0 0 0 0;\n",
              "      width: 32px;\n",
              "    }\n",
              "\n",
              "    .colab-df-convert:hover {\n",
              "      background-color: #E2EBFA;\n",
              "      box-shadow: 0px 1px 2px rgba(60, 64, 67, 0.3), 0px 1px 3px 1px rgba(60, 64, 67, 0.15);\n",
              "      fill: #174EA6;\n",
              "    }\n",
              "\n",
              "    [theme=dark] .colab-df-convert {\n",
              "      background-color: #3B4455;\n",
              "      fill: #D2E3FC;\n",
              "    }\n",
              "\n",
              "    [theme=dark] .colab-df-convert:hover {\n",
              "      background-color: #434B5C;\n",
              "      box-shadow: 0px 1px 3px 1px rgba(0, 0, 0, 0.15);\n",
              "      filter: drop-shadow(0px 1px 2px rgba(0, 0, 0, 0.3));\n",
              "      fill: #FFFFFF;\n",
              "    }\n",
              "  </style>\n",
              "\n",
              "      <script>\n",
              "        const buttonEl =\n",
              "          document.querySelector('#df-ecaeeb63-1d38-40bf-87ce-a3126350dab4 button.colab-df-convert');\n",
              "        buttonEl.style.display =\n",
              "          google.colab.kernel.accessAllowed ? 'block' : 'none';\n",
              "\n",
              "        async function convertToInteractive(key) {\n",
              "          const element = document.querySelector('#df-ecaeeb63-1d38-40bf-87ce-a3126350dab4');\n",
              "          const dataTable =\n",
              "            await google.colab.kernel.invokeFunction('convertToInteractive',\n",
              "                                                     [key], {});\n",
              "          if (!dataTable) return;\n",
              "\n",
              "          const docLinkHtml = 'Like what you see? Visit the ' +\n",
              "            '<a target=\"_blank\" href=https://colab.research.google.com/notebooks/data_table.ipynb>data table notebook</a>'\n",
              "            + ' to learn more about interactive tables.';\n",
              "          element.innerHTML = '';\n",
              "          dataTable['output_type'] = 'display_data';\n",
              "          await google.colab.output.renderOutput(dataTable, element);\n",
              "          const docLink = document.createElement('div');\n",
              "          docLink.innerHTML = docLinkHtml;\n",
              "          element.appendChild(docLink);\n",
              "        }\n",
              "      </script>\n",
              "    </div>\n",
              "  </div>\n",
              "  "
            ]
          },
          "metadata": {},
          "execution_count": 41
        }
      ]
    },
    {
      "cell_type": "code",
      "source": [
        "# Bootstraping - Create 2000 samples of dataset for retention_1 \n",
        "\n",
        "bootstrap_retention1=pd.DataFrame([df.sample(frac=1, replace=True).groupby('group')['retention_1'].mean() for i in range(2000)])\n",
        "\n",
        "bootstrap_retention1.plot.kde()\n",
        "sns.set(rc={'figure.figsize':(18,5)})\n",
        "plt.title(\"KDE Plot of the 1 day retention's bootstrap distributions\", fontweight=\"bold\")\n",
        "plt.xlabel(\"Retention rate\")\n",
        "plt.show()"
      ],
      "metadata": {
        "colab": {
          "base_uri": "https://localhost:8080/",
          "height": 216
        },
        "id": "qL_v9Uq0J20y",
        "outputId": "a8238a3f-c709-4d17-824f-5e07f8f66f3d"
      },
      "execution_count": null,
      "outputs": [
        {
          "output_type": "display_data",
          "data": {
            "text/plain": [
              "<Figure size 1296x360 with 1 Axes>"
            ],
            "image/png": "[encoded data removed]"
          },
          "metadata": {}
        }
      ]
    },
    {
      "cell_type": "code",
      "source": [
        "# Bootstraping - Create 2000 samples of dataset for retention_7\n",
        "\n",
        "bootstrap_retention7=pd.DataFrame([df.sample(frac=1, replace=True).groupby('group')['retention_7'].mean() for i in range(2000)])\n",
        "\n",
        "bootstrap_retention7.plot.kde()\n",
        "sns.set(rc={'figure.figsize':(18,5)})\n",
        "plt.title(\"KDE Plot of the 7 day retention's bootstrap distributions\", fontweight=\"bold\")\n",
        "plt.xlabel(\"Retention rate\")\n",
        "plt.show()"
      ],
      "metadata": {
        "colab": {
          "base_uri": "https://localhost:8080/",
          "height": 216
        },
        "id": "YRl5GtBdJ90A",
        "outputId": "430a57e3-32a6-42bc-ed3e-c085974d3eb6"
      },
      "execution_count": null,
      "outputs": [
        {
          "output_type": "display_data",
          "data": {
            "text/plain": [
              "<Figure size 1296x360 with 1 Axes>"
            ],
            "image/png": "[encoded data removed]"
          },
          "metadata": {}
        }
      ]
    },
    {
      "cell_type": "code",
      "source": [
        "# Function for Chi-square test of independence of variables in a contingency table\n",
        "\n",
        "def chi2test(df):\n",
        "    _, p, _, _ = chi2_contingency(df)\n",
        "    alpha = 0.05\n",
        "\n",
        "    print('p=%.4f , alpha=%.2f '%(p,alpha))\n",
        "    if p > alpha:\n",
        "        print('Two groups have no significant difference')\n",
        "    else:\n",
        "        print('Two groups have a significant difference')"
      ],
      "metadata": {
        "id": "puzfN2lg7IkB"
      },
      "execution_count": null,
      "outputs": []
    },
    {
      "cell_type": "code",
      "source": [
        "#Chi-square test for retention_1 \n",
        "\n",
        "cross1 = pd.crosstab(df[\"group\"], df[\"retention_1\"])\n",
        "chi2test(cross1)"
      ],
      "metadata": {
        "colab": {
          "base_uri": "https://localhost:8080/"
        },
        "id": "Nd5-v8ej7WYh",
        "outputId": "56018af2-d764-4f42-d4fa-3a30092bc83f"
      },
      "execution_count": null,
      "outputs": [
        {
          "output_type": "stream",
          "name": "stdout",
          "text": [
            "p=0.1155 , alpha=0.05 \n",
            "Two groups have no significant difference\n"
          ]
        }
      ]
    },
    {
      "cell_type": "code",
      "source": [
        "#Chi-square test for retention_7\n",
        "\n",
        "cross7 = pd.crosstab(df[\"group\"], df[\"retention_7\"])\n",
        "chi2test(cross7)"
      ],
      "metadata": {
        "colab": {
          "base_uri": "https://localhost:8080/"
        },
        "id": "0trjsUXh8PaW",
        "outputId": "174ac943-484a-444a-acd8-f6ef2e8a17b0"
      },
      "execution_count": null,
      "outputs": [
        {
          "output_type": "stream",
          "name": "stdout",
          "text": [
            "p=0.0027 , alpha=0.05 \n",
            "Two groups have a significant difference\n"
          ]
        }
      ]
    },
    {
      "cell_type": "markdown",
      "source": [
        "## **Conclusion**"
      ],
      "metadata": {
        "id": "BJrUVIyrK1WU"
      }
    },
    {
      "cell_type": "markdown",
      "source": [
        "We discovered that the total number of game rounds in group B is slightly higher than the number of game rounds in group A. But the Mann-Whitney U Test shows that there is no statistically significant difference between the groups. So, we can say that changing the gate of the game from level 30 to level 40 has no effect on the game rounds played by the users.\n",
        "\n",
        "We observed that retention rates were slightly higher in group A. According to the chi-square test, the 1-day user retention rates are not statistically different, but the 7-day user retention rate is higher in Group A. So, we can say that changing the gate of the game from level 30 to level 40 has negative effect on the 7-day user retention rate.\n",
        "\n"
      ],
      "metadata": {
        "id": "QhMhkjJjKpUK"
      }
    }
  ]
}